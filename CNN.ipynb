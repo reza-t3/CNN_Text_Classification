{
  "cells": [
    {
      "cell_type": "markdown",
      "id": "3f316d61",
      "metadata": {},
      "source": [
        "## Artificial Intelligence - Computer Assignment 05: Convolutional Neural Network"
      ]
    },
    {
      "cell_type": "markdown",
      "id": "eY99YE-VG1C9",
      "metadata": {
        "id": "eY99YE-VG1C9"
      },
      "source": [
        "## Setup environment"
      ]
    },
    {
      "cell_type": "code",
      "execution_count": 1,
      "id": "fec65989e04597f0",
      "metadata": {
        "id": "fec65989e04597f0"
      },
      "outputs": [],
      "source": [
        "!pip install gensim emoji nltk tqdm seaborn torch torchsummary -q"
      ]
    },
    {
      "cell_type": "code",
      "execution_count": 2,
      "id": "initial_id",
      "metadata": {
        "collapsed": true,
        "id": "initial_id"
      },
      "outputs": [],
      "source": [
        "import pandas as pd\n",
        "import torch\n",
        "from torch import nn\n",
        "import torch.nn.functional as F\n",
        "from torch.utils.data import DataLoader, Dataset\n",
        "from torch import optim\n",
        "\n",
        "import gensim\n",
        "\n",
        "from sklearn.model_selection import train_test_split\n",
        "import sklearn.metrics as metrics\n",
        "\n",
        "import matplotlib.pyplot as plt\n",
        "import seaborn as sns\n",
        "import numpy as np\n",
        "from tqdm import tqdm\n",
        "import gc\n",
        "import os\n",
        "\n",
        "import ssl\n",
        "ssl._create_default_https_context = ssl._create_unverified_context"
      ]
    },
    {
      "cell_type": "code",
      "execution_count": 3,
      "id": "Z2CuI6cNQyRW",
      "metadata": {
        "id": "Z2CuI6cNQyRW"
      },
      "outputs": [],
      "source": [
        "import warnings\n",
        "\n",
        "warnings.filterwarnings(\"ignore\")"
      ]
    },
    {
      "cell_type": "markdown",
      "id": "3e83a8b72b644c2",
      "metadata": {
        "collapsed": false,
        "id": "3e83a8b72b644c2"
      },
      "source": [
        "## Model training config"
      ]
    },
    {
      "cell_type": "code",
      "execution_count": 4,
      "id": "2d0826c5b8eb52c9",
      "metadata": {
        "id": "2d0826c5b8eb52c9"
      },
      "outputs": [],
      "source": [
        "LEARNING_RATE = 4e-4\n",
        "WEIGHT_DECAY = 1e-2\n",
        "BATCH_SIZE = 64\n",
        "EPOCHS = 15\n",
        "SEQUENCE_LEN = 64\n",
        "CNN_FILTERS = 64"
      ]
    },
    {
      "cell_type": "markdown",
      "id": "27110752c038c1d0",
      "metadata": {
        "collapsed": false,
        "id": "27110752c038c1d0"
      },
      "source": [
        "# Part 0: Data Preparation"
      ]
    },
    {
      "cell_type": "markdown",
      "id": "32b050729991fec9",
      "metadata": {
        "collapsed": false,
        "id": "32b050729991fec9"
      },
      "source": [
        "## Load Data"
      ]
    },
    {
      "cell_type": "code",
      "execution_count": null,
      "id": "ZcURtt1_NWiH",
      "metadata": {
        "id": "ZcURtt1_NWiH"
      },
      "outputs": [],
      "source": [
        "from google.colab import files\n",
        "\n",
        "uploaded = files.upload()"
      ]
    },
    {
      "cell_type": "code",
      "execution_count": 7,
      "id": "88e92f34d72c6f62",
      "metadata": {
        "colab": {
          "base_uri": "https://localhost:8080/"
        },
        "id": "88e92f34d72c6f62",
        "outputId": "3f53bca2-9411-4819-9a52-823faf1a02d0"
      },
      "outputs": [
        {
          "name": "stdout",
          "output_type": "stream",
          "text": [
            "                                               tweet  intention\n",
            "0  my life is meaningless i just want to end my l...          1\n",
            "1  muttering i wanna die to myself daily for a fe...          1\n",
            "2  work slave i really feel like my only purpose ...          1\n",
            "3  i did something on the 2 of october i overdose...          1\n",
            "4  i feel like no one cares i just want to die ma...          1\n",
            "5  i am great and wonderful i am worth it except ...          1\n",
            "6  i ll be dead just you wait and see my last wor...          1\n",
            "7  health anxiety prompting some bad thoughts in ...          1\n",
            "8  everything is okay but nothing feels okay i ve...          1\n",
            "9  ptsd and alcohol i had some extremely horrible...          1\n"
          ]
        }
      ],
      "source": [
        "import io\n",
        "\n",
        "df = pd.read_csv(io.BytesIO(uploaded['twitter-suicidal-data.csv']))\n",
        "print(df.head(10))"
      ]
    },
    {
      "cell_type": "markdown",
      "id": "57f7552c58ea498e",
      "metadata": {
        "collapsed": false,
        "id": "57f7552c58ea498e"
      },
      "source": [
        "## Data Preprocessing"
      ]
    },
    {
      "cell_type": "code",
      "execution_count": null,
      "id": "f16efd0184e90f40",
      "metadata": {
        "id": "f16efd0184e90f40"
      },
      "outputs": [],
      "source": [
        "import nltk\n",
        "import emoji\n",
        "import re\n",
        "\n",
        "nltk.download([\"stopwords\", \"punkt\", \"wordnet\", \"averaged_perceptron_tagger\", \"words\"])"
      ]
    },
    {
      "cell_type": "code",
      "execution_count": 39,
      "id": "dbe50f445aa09ecc",
      "metadata": {
        "id": "dbe50f445aa09ecc"
      },
      "outputs": [],
      "source": [
        "import string\n",
        "\n",
        "stop_words = nltk.corpus.stopwords.words(\"english\")\n",
        "for i in range(len(stop_words)):\n",
        "    stop_words[i] = re.sub(r\"'\", \"\", stop_words[i])\n",
        "words = set(nltk.corpus.words.words())\n",
        "lemmatizer = nltk.stem.WordNetLemmatizer()\n",
        "\n",
        "def convert_emoji_to_text(text):\n",
        "    return emoji.replace_emoji(text, replace='')\n",
        "\n",
        "def nltk_pos_tagger(nltk_tag):\n",
        "    if nltk_tag.startswith('J'):\n",
        "        return 'a'\n",
        "    elif nltk_tag.startswith('V'):\n",
        "        return 'v'\n",
        "    elif nltk_tag.startswith('N'):\n",
        "        return 'n'\n",
        "    elif nltk_tag.startswith('R'):\n",
        "        return 'r'\n",
        "    else:\n",
        "        return 'n'\n",
        "\n",
        "def preprocess_data(text: str):\n",
        "    # lowercasing the text\n",
        "    text = text.lower()\n",
        "\n",
        "    # removing usernames\n",
        "    text = re.sub(r'@\\S+', '', text)\n",
        "\n",
        "    # removing punctuation\n",
        "    text = text.translate(str.maketrans('', '', string.punctuation))\n",
        "\n",
        "    # removing numbers\n",
        "    text = text.translate(str.maketrans('', '', string.digits))\n",
        "\n",
        "    # removing urls\n",
        "    text = re.sub(r'https?\\S+|www\\S+', '', text)\n",
        "\n",
        "    # converting emojis to text\n",
        "    text = convert_emoji_to_text(text)\n",
        "\n",
        "    # removing extra spaces\n",
        "    text = \" \".join(text.split())\n",
        "\n",
        "    # removing non-word characters\n",
        "    # text = \" \".join(word for word in text.split() if word in words)\n",
        "\n",
        "    # lemmatization and tokenization of the text\n",
        "    word_tokens = text.split()\n",
        "    # word_tokens = nltk.word_tokenize(text)\n",
        "    pos_tags = nltk.pos_tag(word_tokens)\n",
        "    tokens = []\n",
        "    for i in range(len(word_tokens)):\n",
        "        token = lemmatizer.lemmatize(word_tokens[i], nltk_pos_tagger(pos_tags[i][1]))\n",
        "        if len(token) > 1:\n",
        "            tokens.append(token)\n",
        "\n",
        "    # removing stopwords\n",
        "    final_tokens = []\n",
        "    for word in tokens:\n",
        "        if word not in stop_words:\n",
        "            final_tokens.append(word)\n",
        "\n",
        "    # return tokens\n",
        "    return final_tokens"
      ]
    },
    {
      "cell_type": "markdown",
      "id": "MvM4AdEWQiKr",
      "metadata": {
        "id": "MvM4AdEWQiKr"
      },
      "source": [
        "### Apply the implemented function on some arbitrary samples of the given dataset and display and compare the tweet text before and after preprocessing.\n"
      ]
    },
    {
      "cell_type": "code",
      "execution_count": 40,
      "id": "11ac7d394e03d9f",
      "metadata": {
        "colab": {
          "base_uri": "https://localhost:8080/"
        },
        "id": "11ac7d394e03d9f",
        "outputId": "29decb22-5bea-482c-95a2-519a3e394b1d"
      },
      "outputs": [
        {
          "name": "stdout",
          "output_type": "stream",
          "text": [
            "Tweet Number[1]\n",
            "Before Preprocessing:\n",
            "my life is meaningless i just want to end my life so badly my life is completely empty and i dont want to have to create meaning in it creating meaning is pain how long will i hold back the urge to run my car head first into the next person coming the opposite way when will i stop feeling jealous of tragic characters like gomer pile for the swift end they were able to bring to their lives\n",
            "After Preprocessing:\n",
            "['life', 'meaningless', 'want', 'end', 'life', 'badly', 'life', 'completely', 'empty', 'want', 'create', 'meaning', 'create', 'meaning', 'pain', 'long', 'hold', 'back', 'urge', 'run', 'car', 'head', 'first', 'next', 'person', 'come', 'opposite', 'way', 'stop', 'feel', 'jealous', 'tragic', 'character', 'like', 'gomer', 'pile', 'swift', 'end', 'able', 'bring', 'life'] \n",
            "\n",
            "Tweet Number[501]\n",
            "Before Preprocessing:\n",
            "why i want to just end everything in no particular order i am short i am unattractive i have social anxiety i cant make friends i have never been in a relationship i have wasted my youth my grades could be better i have a few talents i have a few accomplishmentsi have very few friendsi have lost all interest in new things i have lost interest in getting a hobbyi have lost interest in my old hobbies i cant get a girlfriend to save my lifei am depressed all the time i have lost so much sleep i feel dead inside i cant feel emotions \n",
            "After Preprocessing:\n",
            "['want', 'end', 'everything', 'particular', 'order', 'short', 'unattractive', 'social', 'anxiety', 'cant', 'make', 'friend', 'never', 'relationship', 'waste', 'youth', 'grade', 'could', 'good', 'talent', 'accomplishmentsi', 'friendsi', 'lose', 'interest', 'new', 'thing', 'lose', 'interest', 'get', 'hobbyi', 'lose', 'interest', 'old', 'hobby', 'cant', 'get', 'girlfriend', 'save', 'lifei', 'depress', 'time', 'lose', 'much', 'sleep', 'feel', 'dead', 'inside', 'cant', 'feel', 'emotion'] \n",
            "\n",
            "Tweet Number[1001]\n",
            "Before Preprocessing:\n",
            "i m writing my letter and the date is set i have 13 days to make peace with everyone and then it will all be over my plan is foolproof now i just have to make sure my letter is perfect please don t feel the need to be nice or reassure me that s not what i m looking for i just needed to tell someone \n",
            "After Preprocessing:\n",
            "['write', 'letter', 'date', 'set', 'day', 'make', 'peace', 'everyone', 'plan', 'foolproof', 'make', 'sure', 'letter', 'perfect', 'please', 'feel', 'need', 'nice', 'reassure', 'look', 'need', 'tell', 'someone'] \n",
            "\n",
            "Tweet Number[1501]\n",
            "Before Preprocessing:\n",
            "everyday of my life everyday i wake up i think of suicide even though i dont want to die i dont want to live if it means that this is to be my life always alone always searching always fighting always living everyday of my life so empty\n",
            "After Preprocessing:\n",
            "['everyday', 'life', 'everyday', 'wake', 'think', 'suicide', 'even', 'though', 'want', 'die', 'want', 'live', 'mean', 'life', 'always', 'alone', 'always', 'search', 'always', 'fight', 'always', 'live', 'everyday', 'life', 'empty'] \n",
            "\n",
            "Tweet Number[2001]\n",
            "Before Preprocessing:\n",
            "tonight i felt i could just die my heart hurts i could cry all night i dont want to feel numb or this horrible pain anymore soi amaccepting what isi am going to give myself time to heal i want to feel this pain and deal with reality instead how are you doingi amright there with you havent even climbed into bed ive been just sitting next to it picking my toes and staring at the floor since i got home from getting my things i left that her house months ago as a promise that id would be coming backbut the promise was that id be coming back for her i dont care about my damn speakers id give every up just a sliver of a hair short of my own life to have been have been able to even seen her with my own two eyes tonight but she was convinced id be lost and gone forever and opened herself up to the possibilities of finding love i someone else shes a beautiful funny attractive woman sadly it didnt take long for someone to find her id been looking for her for 89 years shes the first person that i truly opened my heart for since the last onei amafraid of what may lay ahead for me this oneade realize the love i had for the last one was just childs play this one enlightened me to the reality of true unconditional absolutely committed loveand i myself fucked it all up i wish she would have just genuinely asked me to just come home\n",
            "After Preprocessing:\n",
            "['tonight', 'felt', 'could', 'die', 'heart', 'hurt', 'could', 'cry', 'night', 'want', 'feel', 'numb', 'horrible', 'pain', 'anymore', 'soi', 'amaccepting', 'isi', 'go', 'give', 'time', 'heal', 'want', 'feel', 'pain', 'deal', 'reality', 'instead', 'doingi', 'amright', 'even', 'climb', 'bed', 'ive', 'sit', 'next', 'pick', 'toe', 'star', 'floor', 'since', 'get', 'home', 'get', 'thing', 'leave', 'house', 'month', 'ago', 'promise', 'id', 'would', 'come', 'backbut', 'promise', 'id', 'come', 'back', 'care', 'damn', 'speaker', 'id', 'give', 'every', 'sliver', 'hair', 'short', 'life', 'able', 'even', 'see', 'two', 'eye', 'tonight', 'convince', 'id', 'lose', 'go', 'forever', 'open', 'possibility', 'find', 'love', 'someone', 'else', 'beautiful', 'funny', 'attractive', 'woman', 'sadly', 'take', 'long', 'someone', 'find', 'id', 'look', 'year', 'first', 'person', 'truly', 'open', 'heart', 'since', 'last', 'onei', 'amafraid', 'may', 'lay', 'ahead', 'oneade', 'realize', 'love', 'last', 'one', 'childs', 'play', 'one', 'enlighten', 'reality', 'true', 'unconditional', 'absolutely', 'committed', 'loveand', 'fuck', 'wish', 'would', 'genuinely', 'ask', 'come', 'home'] \n",
            "\n",
            "Tweet Number[2501]\n",
            "Before Preprocessing:\n",
            "no one ever wants me the only person who ever really gave a shit about me stopped responding to my pleas for help and the next time i get to see them in person for help isnt for a few days and i doubt if i can make it through tomorrow\n",
            "After Preprocessing:\n",
            "['one', 'ever', 'want', 'person', 'ever', 'really', 'give', 'shit', 'stop', 'respond', 'plea', 'help', 'next', 'time', 'get', 'see', 'person', 'help', 'day', 'doubt', 'make', 'tomorrow'] \n",
            "\n",
            "Tweet Number[3001]\n",
            "Before Preprocessing:\n",
            "can somebody just kill me please whats making you feel this way you told anyone what youre going through or looked into getting help\n",
            "After Preprocessing:\n",
            "['somebody', 'kill', 'please', 'whats', 'make', 'feel', 'way', 'tell', 'anyone', 'go', 'look', 'get', 'help'] \n",
            "\n",
            "Tweet Number[3501]\n",
            "Before Preprocessing:\n",
            "but of course the document with the important tables in it isn t published on the internet \n",
            "After Preprocessing:\n",
            "['course', 'document', 'important', 'table', 'publish', 'internet'] \n",
            "\n",
            "Tweet Number[4001]\n",
            "Before Preprocessing:\n",
            " why can you not come up north and see us \n",
            "After Preprocessing:\n",
            "['come', 'north', 'see'] \n",
            "\n",
            "Tweet Number[4501]\n",
            "Before Preprocessing:\n",
            "i think hates me \n",
            "After Preprocessing:\n",
            "['think', 'hate'] \n",
            "\n",
            "Tweet Number[5001]\n",
            "Before Preprocessing:\n",
            "sore back \n",
            "After Preprocessing:\n",
            "['sore', 'back'] \n",
            "\n",
            "Tweet Number[5501]\n",
            "Before Preprocessing:\n",
            "sitting in the garden enjoying the sun but yet very bored \n",
            "After Preprocessing:\n",
            "['sit', 'garden', 'enjoy', 'sun', 'yet', 'bored'] \n",
            "\n",
            "Tweet Number[6001]\n",
            "Before Preprocessing:\n",
            " aww good night\n",
            "After Preprocessing:\n",
            "['aww', 'good', 'night'] \n",
            "\n",
            "Tweet Number[6501]\n",
            "Before Preprocessing:\n",
            "aw thats gay \n",
            "After Preprocessing:\n",
            "['aw', 'thats', 'gay'] \n",
            "\n",
            "Tweet Number[7001]\n",
            "Before Preprocessing:\n",
            "stuck in traffic on the 101 \n",
            "After Preprocessing:\n",
            "['stick', 'traffic'] \n",
            "\n",
            "Tweet Number[7501]\n",
            "Before Preprocessing:\n",
            "i will die on this hill i don t hate beer and i can get with it in the right situations but shaming people for drinking what they want to is some bullshit and if you do it i don t fuck with you \n",
            "After Preprocessing:\n",
            "['die', 'hill', 'hate', 'beer', 'get', 'right', 'situation', 'sham', 'people', 'drink', 'want', 'bullshit', 'fuck'] \n",
            "\n",
            "Tweet Number[8001]\n",
            "Before Preprocessing:\n",
            "nines woul never leave his side for literally anything because in case you suddenly die i want to he with you so you won t be alone \n",
            "After Preprocessing:\n",
            "['nine', 'woul', 'never', 'leave', 'side', 'literally', 'anything', 'case', 'suddenly', 'die', 'want', 'win', 'alone'] \n",
            "\n",
            "Tweet Number[8501]\n",
            "Before Preprocessing:\n",
            "haha yeah i just can t fucking watch it i will not bring myself to do it i m not even curious to see how cringe worthy it is i think i still have ptsd after that imagine clip\n",
            "After Preprocessing:\n",
            "['haha', 'yeah', 'fuck', 'watch', 'bring', 'even', 'curious', 'see', 'cringe', 'worthy', 'think', 'still', 'ptsd', 'imagine', 'clip'] \n",
            "\n",
            "Tweet Number[9001]\n",
            "Before Preprocessing:\n",
            "i don t know what i am alive or just breathing \n",
            "After Preprocessing:\n",
            "['know', 'alive', 'breathing'] \n",
            "\n"
          ]
        }
      ],
      "source": [
        "# Showing some samples before/after preprocessing\n",
        "for i in range(0, len(df), 500):\n",
        "    print(f\"Tweet Number[{i + 1}]\")\n",
        "    print(\"Before Preprocessing:\")\n",
        "    print(df.iloc[i, 0])\n",
        "    print(\"After Preprocessing:\")\n",
        "    print(preprocess_data(df.iloc[i, 0]), '\\n')"
      ]
    },
    {
      "cell_type": "markdown",
      "id": "GzD-OyKA_gUb",
      "metadata": {
        "id": "GzD-OyKA_gUb"
      },
      "source": [
        "### Briefly explain about the advantages and disadvantages of converting the text to lowercase format and tell why we do this processing?"
      ]
    },
    {
      "cell_type": "markdown",
      "id": "uhusvPob_pqU",
      "metadata": {
        "id": "uhusvPob_pqU"
      },
      "source": [
        "**Advantages of Converting Text to Lowercase**<br>\n",
        "1. `Consistency`: It ensures that words like \"Apple\" and \"apple\" are treated as the same word, reducing the complexity of the vocabulary and making text processing more consistent.\n",
        "2. `Simplification`: Simplifies text processing tasks by reducing the number of distinct tokens. This is especially useful in tasks like text classification and information retrieval where variations in case do not carry significant meaning.\n",
        "3. `Improved Matching`: Facilitates better matching of words in tasks such as search engines, where case differences should not affect the results.\n",
        "\n",
        "**Disadvantages of Converting Text to Lowercase**<br>\n",
        "1. `Loss of Information`: Case may carry important information in some contexts. For example, \"US\" (United States) and \"us\" (pronoun) are distinct terms whose meanings are lost if converted to lowercase.\n",
        "2. `Named Entities`: Proper nouns, acronyms, and other named entities can lose their distinctiveness when lowercased, potentially impacting tasks like named entity recognition (NER).\n",
        "3. `Readability`: Converting text to lowercase can reduce readability, making it harder to distinguish sentence beginnings, proper nouns, and acronyms.\n",
        "\n",
        "**Why Do We Perform This Processing?**<br>\n",
        "Lowercasing is typically performed to standardize the text data and ensure uniformity, which is crucial for many NLP tasks. It is often done as part of preprocessing for the following reasons:\n",
        "- `Preprocessing Step`: It is a simple and effective preprocessing step that can help reduce the noise in text data.\n",
        "- `Model Efficiency`: Helps in making the models more efficient by reducing the vocabulary size, leading to faster and more efficient training."
      ]
    },
    {
      "cell_type": "markdown",
      "id": "E2zDeiy7DdiM",
      "metadata": {
        "id": "E2zDeiy7DdiM"
      },
      "source": [
        "### Search about removing numbers in the above processes and name some advantages and disadvantages of this process."
      ]
    },
    {
      "cell_type": "markdown",
      "id": "pAx_pTn5DdL0",
      "metadata": {
        "id": "pAx_pTn5DdL0"
      },
      "source": [
        "Removing numbers from text during preprocessing in NLP tasks has its own set of advantages and disadvantages. Understanding these can help determine when and why to apply this technique based on the specific requirements of our NLP project.\n",
        "\n",
        "**Advantages of Removing Numbers**<br>\n",
        "1. `Noise Reduction`: Removing numbers can help reduce noise in the dataset, especially if the numbers are irrelevant to the text's context or the NLP task at hand.\n",
        "2. `Dimensionality Reduction`: By eliminating numbers, you can reduce the dimensionality of your data, which can simplify models and potentially improve performance.\n",
        "3. `Focus on Semantic Content`: This allows the NLP model to focus more on the semantic content of the text, which can be beneficial for tasks like sentiment analysis or topic modeling where numerical values might not contribute significantly.\n",
        "\n",
        "**Disadvantages of Removing Numbers**<br>\n",
        "1. `Loss of Information`: Numbers can carry important information, such as quantities, dates, or identifiers. Removing them might result in a loss of critical context or details that could be valuable for certain analyses.\n",
        "2. `Impact on Meaning`: In some cases, numbers can affect the meaning of the text. For instance, \"I have 2 dogs\" conveys different information than \"I have dogs\".\n",
        "3. `Potential Data Integrity Issues`: Extreme removal of numbers might lead to data integrity issues, particularly in datasets where numbers are significant, such as financial texts, medical records, or any domain where numerical values play a crucial role."
      ]
    },
    {
      "cell_type": "markdown",
      "id": "rqZfRHp5OX2K",
      "metadata": {
        "id": "rqZfRHp5OX2K"
      },
      "source": [
        "### Explain why We didn't remove hashtags and what effect does keeping them have on the performance of the model?"
      ]
    },
    {
      "cell_type": "markdown",
      "id": "tcmnDBloOyOj",
      "metadata": {
        "id": "tcmnDBloOyOj"
      },
      "source": [
        "Keeping hashtags in the data preprocessing phase is advantageous as they provide critical contextual information, enhance feature representation, and improve the model's performance in understanding sentiment and topics. Removing hashtags would lead to a loss of important information, reducing the model’s effectiveness in accurately analyzing and classifying social media data."
      ]
    },
    {
      "cell_type": "markdown",
      "id": "zKt5jGhoOXxy",
      "metadata": {
        "id": "zKt5jGhoOXxy"
      },
      "source": [
        "### Plot the distribution of the number of tokens of each sample for the label 1 and 0, as well as for the entire dataset. For btter displaying use a box plot or print the minimum, maximum and average values.\n"
      ]
    },
    {
      "cell_type": "code",
      "execution_count": 41,
      "id": "-7J3s6eyJj04",
      "metadata": {
        "colab": {
          "base_uri": "https://localhost:8080/",
          "height": 879
        },
        "id": "-7J3s6eyJj04",
        "outputId": "4b5215b8-57e7-4360-a799-451444633396"
      },
      "outputs": [
        {
          "name": "stdout",
          "output_type": "stream",
          "text": [
            "Statistics for Label 0:\n",
            "Min: 0\n",
            "Max: 37\n",
            "Average: 8.773091193126342\n",
            "\n",
            "Statistics for Label 1:\n",
            "Min: 0\n",
            "Max: 2105\n",
            "Average: 71.43646823411706\n",
            "\n",
            "Statistics for Entire Dataset:\n",
            "Min: 0\n",
            "Max: 2105\n",
            "Average: 36.24629893628688\n",
            "\n"
          ]
        },
        {
          "data": {
            "image/png": "[encoded data removed]",
            "text/plain": [
              "<Figure size 1200x600 with 3 Axes>"
            ]
          },
          "metadata": {},
          "output_type": "display_data"
        }
      ],
      "source": [
        "# Making new dataframe to add the tokens and number of tokens to it\n",
        "new_df = df.copy()\n",
        "\n",
        "# Apply preprocessing\n",
        "new_df['tokens'] = new_df['tweet'].map(preprocess_data)\n",
        "new_df['num_tokens'] = new_df['tokens'].map(len)\n",
        "\n",
        "# Print min, max, and average values\n",
        "print(\"Statistics for Label 0:\")\n",
        "print(f\"Min: {new_df[new_df['intention'] == 0]['num_tokens'].min()}\")\n",
        "print(f\"Max: {new_df[new_df['intention'] == 0]['num_tokens'].max()}\")\n",
        "print(f\"Average: {new_df[new_df['intention'] == 0]['num_tokens'].mean()}\")\n",
        "\n",
        "print(\"\\nStatistics for Label 1:\")\n",
        "print(f\"Min: {new_df[new_df['intention'] == 1]['num_tokens'].min()}\")\n",
        "print(f\"Max: {new_df[new_df['intention'] == 1]['num_tokens'].max()}\")\n",
        "print(f\"Average: {new_df[new_df['intention'] == 1]['num_tokens'].mean()}\")\n",
        "\n",
        "print(\"\\nStatistics for Entire Dataset:\")\n",
        "print(f\"Min: {new_df['num_tokens'].min()}\")\n",
        "print(f\"Max: {new_df['num_tokens'].max()}\")\n",
        "print(f\"Average: {new_df['num_tokens'].mean()}\\n\")\n",
        "\n",
        "# Plotting\n",
        "plt.figure(figsize=(12, 6))\n",
        "\n",
        "# Box plot for label 0\n",
        "plt.subplot(1, 3, 1)\n",
        "sns.boxplot(y=new_df[new_df['intention'] == 0]['num_tokens'])\n",
        "plt.title('Number of Tokens for Label 0')\n",
        "\n",
        "# Box plot for label 1\n",
        "plt.subplot(1, 3, 2)\n",
        "sns.boxplot(y=new_df[new_df['intention'] == 1]['num_tokens'])\n",
        "plt.title('Number of Tokens for Label 1')\n",
        "\n",
        "# Box plot for the entire dataset\n",
        "plt.subplot(1, 3, 3)\n",
        "sns.boxplot(y=new_df['num_tokens'])\n",
        "plt.title('Number of Tokens for Entire Da       taset')\n",
        "\n",
        "plt.tight_layout()\n",
        "plt.show()"
      ]
    },
    {
      "cell_type": "markdown",
      "id": "03XnTeSz7-E-",
      "metadata": {
        "id": "03XnTeSz7-E-"
      },
      "source": [
        "# Part 1: Constructing Feature Vectors"
      ]
    },
    {
      "cell_type": "markdown",
      "id": "2e129c7a31663741",
      "metadata": {
        "collapsed": false,
        "id": "2e129c7a31663741"
      },
      "source": [
        "## Word2Vec - Word Embedding"
      ]
    },
    {
      "cell_type": "code",
      "execution_count": 42,
      "id": "8d15b31459fd1e5",
      "metadata": {
        "colab": {
          "base_uri": "https://localhost:8080/"
        },
        "id": "8d15b31459fd1e5",
        "outputId": "a000f338-f990-4847-aab0-c3201f7a21a0"
      },
      "outputs": [
        {
          "name": "stdout",
          "output_type": "stream",
          "text": [
            "fasttext-wiki-news-subwords-300\n",
            "conceptnet-numberbatch-17-06-300\n",
            "word2vec-ruscorpora-300\n",
            "word2vec-google-news-300\n",
            "glove-wiki-gigaword-50\n",
            "glove-wiki-gigaword-100\n",
            "glove-wiki-gigaword-200\n",
            "glove-wiki-gigaword-300\n",
            "glove-twitter-25\n",
            "glove-twitter-50\n",
            "glove-twitter-100\n",
            "glove-twitter-200\n",
            "__testing_word2vec-matrix-synopsis\n"
          ]
        }
      ],
      "source": [
        "# printing available word2vec models\n",
        "import gensim.downloader as api\n",
        "print(\"\\n\".join(api.info()['models'].keys()))"
      ]
    },
    {
      "cell_type": "code",
      "execution_count": 43,
      "id": "55bbe6faa1226b8d",
      "metadata": {
        "colab": {
          "base_uri": "https://localhost:8080/"
        },
        "id": "55bbe6faa1226b8d",
        "outputId": "e09c478d-2193-4d23-d8ef-0535cd48a7a5"
      },
      "outputs": [
        {
          "name": "stdout",
          "output_type": "stream",
          "text": [
            "Loading Word2Vec model...\n",
            "Word2Vec model is loaded.\n"
          ]
        }
      ],
      "source": [
        "W2V_PATH = \"word2vec-google-news-300\" # Path to W2V if downloaded\n",
        "if W2V_PATH is not None and os.path.exists(W2V_PATH):\n",
        "    print(\"Loading Word2Vec model...\")\n",
        "    w2v_model = gensim.models.KeyedVectors.load(W2V_PATH, mmap='r')\n",
        "    print(\"Word2Vec model is loaded.\")\n",
        "else:\n",
        "    print(\"Downloading Word2Vec model...\")\n",
        "    w2v_model = api.load(\"word2vec-google-news-300\")\n",
        "    print(\"Word2vec model is downloaded.\")\n",
        "    if W2V_PATH is not None:\n",
        "      print(\"\\nSaving Word2Vec model...\")\n",
        "      w2v_model.save(W2V_PATH)\n",
        "      print(\"Word2Vec model is saved.\")\n",
        "\n",
        "EMBEDDING_VECTOR_DIM = w2v_model.vector_size"
      ]
    },
    {
      "cell_type": "markdown",
      "id": "8iimikMUbS_g",
      "metadata": {
        "id": "8iimikMUbS_g"
      },
      "source": [
        "### What are the methods of dealing with words that are not in the Word2Vec dictionary and name some advantages and disadvantages of each."
      ]
    },
    {
      "cell_type": "markdown",
      "id": "Jah-CndQb-VR",
      "metadata": {
        "id": "Jah-CndQb-VR"
      },
      "source": [
        "**Random Initialization**<br>\n",
        "_Description_: Assign random vectors to Out-Of-Vocabulary words.<br>\n",
        "- Advantages:\n",
        "1. `Simple Implementation`: Easy to implement without any additional training.\n",
        "2. `Consistency`: Ensures that every word has a corresponding vector, allowing models to process all inputs.\n",
        "- Disadvantages:\n",
        "1. `Lack of Semantic Meaning`: Random vectors do not capture the semantic meaning of words.\n",
        "2. `Potentially Harmful`: Random vectors might confuse the model, leading to poorer performance.\n",
        "\n",
        "**Zero Vectors**<br>\n",
        "_Description_: Assign a zero vector to Out-Of-Vocabulary words.\n",
        "- Advantages:\n",
        "1. `Simple and Consistent`: Easy to implement and ensures uniform handling of OOV words.\n",
        "2. `Model Stability`: Zero vectors can prevent the introduction of noise into the model.\n",
        "- Disadvantages:\n",
        "1. `No Semantic Information`: Zero vectors carry no information about the word.\n",
        "2. `Disruption`: Large proportions of zero vectors in the input can disrupt the learning process of neural networks.\n",
        "\n",
        "**Averaging Known Vectors**<br>\n",
        "_Description_: Assign the average vector of all known word vectors to OOV words.\n",
        "- Advantages:\n",
        "1. `Represents General Meaning`: Provides a general representation of words based on the entire vocabulary.\n",
        "2. `Improved Semantics`: Better than random vectors or zero vectors in maintaining some level of semantic information.\n",
        "- Disadvantages:\n",
        "1. `Overgeneralization`: May not adequately represent specific nuances of individual OOV words.\n",
        "2. `Computational Cost`: Requires computation of the average vector, which can be costly for large vocabularies.\n",
        "\n",
        "**Nearest Neighbor Approximation**<br>\n",
        "_Description_: Use the vector of the nearest known word in the embedding space.\n",
        "- Advantages:\n",
        "1. `Semantic Proximity`: Likely to capture similar meaning based on proximity in the embedding space.\n",
        "2. `Improved Semantic Handling`: Better than random or zero vectors as it leverages the structure of the embedding space.\n",
        "- Disadvantages:\n",
        "1. `Dependency on Existing Vectors`: Effectiveness depends on the quality and coverage of the known vectors.\n",
        "1. `Potential Misrepresentation`: Nearest neighbors might not always be semantically appropriate."
      ]
    },
    {
      "cell_type": "markdown",
      "id": "21730f8dd01e5b4e",
      "metadata": {
        "collapsed": false,
        "id": "21730f8dd01e5b4e"
      },
      "source": [
        "## Dataset"
      ]
    },
    {
      "cell_type": "code",
      "execution_count": 44,
      "id": "xdqLYrA4xjuX",
      "metadata": {
        "id": "xdqLYrA4xjuX"
      },
      "outputs": [],
      "source": [
        "class Twitter(Dataset):\n",
        "    def __init__(self, dataframe: pd.DataFrame, w2v_model: gensim.models.KeyedVectors, sequence_len: int):\n",
        "        self.dataframe = dataframe\n",
        "        self.w2v_model = w2v_model\n",
        "        self.max_sequence_len = sequence_len\n",
        "        self.vector_size = w2v_model.vector_size\n",
        "        self.df_token_col = \"tokens\"\n",
        "        self._proc_dataset()\n",
        "        self.length = len(self.dataframe)\n",
        "\n",
        "    def __len__(self):\n",
        "        return self.length\n",
        "\n",
        "    def __getitem__(self, idx):\n",
        "        return self.dataframe.loc[idx, \"vector\"].transpose(0, 1), self.dataframe.loc[idx, \"intention\"]\n",
        "\n",
        "    def get_vector_size(self):\n",
        "        return self.vector_size\n",
        "\n",
        "    def _proc_dataset(self):\n",
        "        # Preprocessing and returning tokens list\n",
        "        self.dataframe[self.df_token_col] = self.dataframe[\"tweet\"].map(preprocess_data)\n",
        "\n",
        "        # deleting samples with empty tokens\n",
        "        lwz = len(self.dataframe)\n",
        "        self.dataframe = self.dataframe[self.dataframe[self.df_token_col].map(len) > 0]\n",
        "        # self.dataframe = self.dataframe.dropna(subset=[self.df_token_col])\n",
        "        self.dataframe.reset_index(drop=True, inplace=True)\n",
        "        print(f\"Number of Deleted 0-Len Samples: {lwz - len(self.dataframe)}\")\n",
        "\n",
        "        # Adding padding\n",
        "        self.dataframe[self.df_token_col] = self.dataframe[self.df_token_col].map(self._pad)\n",
        "\n",
        "        # Geting embedding's vectors\n",
        "        self.dataframe[\"vector\"] = self.dataframe[self.df_token_col].map(self._get_word_vectors)\n",
        "        self.dataframe = self.dataframe.dropna(subset=[\"vector\"])\n",
        "\n",
        "    def _get_word_vectors(self, tokens: list):\n",
        "        # Returning a 2D tensor for whole list of tokens, using vectors from w2v as explained on the description\n",
        "        vectors = []\n",
        "        try:\n",
        "            for token in tokens:\n",
        "                if token in self.w2v_model:\n",
        "                    vectors.append(self.w2v_model[token])\n",
        "                else:\n",
        "                    vectors.append(np.zeros(self.w2v_model.vector_size))\n",
        "            return self._to_tensor(vectors)\n",
        "        except:\n",
        "            return None\n",
        "\n",
        "    def _pad(self, tokens: list):\n",
        "        # Adding paddings (zero-vectors) into the end of sequence to reach the desired length\n",
        "        if len(tokens) > self.max_sequence_len:\n",
        "            return tokens[:self.max_sequence_len]\n",
        "        elif len(tokens) < self.max_sequence_len:\n",
        "            tokens = tokens + (self.max_sequence_len - len(tokens)) * [\"<PAD>\"]\n",
        "            return tokens\n",
        "        return tokens\n",
        "\n",
        "    def seq_report(self):\n",
        "        length_all = self.dataframe[self.df_token_col].map(len).tolist()\n",
        "        max_length = np.max(length_all)\n",
        "        print(f\"Sequence Length Report\")\n",
        "        print(f\":::::MAX  LENGTH:::[{max_length:^5}]\")\n",
        "        print(f\":::::MIN  LENGTH:::[{np.min(length_all):^5}]\")\n",
        "        print(f\":::::MEAN LENGTH:::[{np.mean(length_all):^5}]\")\n",
        "\n",
        "        all_tokens = set()\n",
        "        for token_set in self.dataframe[self.df_token_col].tolist():\n",
        "            all_tokens = all_tokens.union(set(token_set))\n",
        "        unique_tokens_count = len(all_tokens)\n",
        "        test_tokens = sum(1 if token in self.w2v_model else 0 for token in all_tokens)\n",
        "        print(\"Sequence Tokenization Report\")\n",
        "        print(f\":::::All Unique Tokens:::[{unique_tokens_count:^6}]\")\n",
        "        print(f\":::::All test Tokens:::[{test_tokens:^6}]\")\n",
        "        print(f\":::::test Tokens:::[{round(100*test_tokens/unique_tokens_count, 2):^5}%]\")\n",
        "\n",
        "    @staticmethod\n",
        "    def _to_tensor(tokens: list):\n",
        "        return torch.tensor(tokens, dtype=torch.float32)"
      ]
    },
    {
      "cell_type": "markdown",
      "id": "bd00ab880892e646",
      "metadata": {
        "collapsed": false,
        "id": "bd00ab880892e646"
      },
      "source": [
        "## Split Data into train-test"
      ]
    },
    {
      "cell_type": "markdown",
      "id": "KNuzF5oVFJLN",
      "metadata": {
        "id": "KNuzF5oVFJLN"
      },
      "source": [
        "### Report the division ratio of training and test data and why you use this ratio."
      ]
    },
    {
      "cell_type": "markdown",
      "id": "uR0QEIXGFOvY",
      "metadata": {
        "id": "uR0QEIXGFOvY"
      },
      "source": [
        "I used 80/20 Split because it's one of the most commonly used splits and provides a good balance between training and evaluation. While it provides a substantial amount of data for training, allowing the model to learn patterns effectively, it ensures enough data is available for testing to get a reliable estimate of the model's performance."
      ]
    },
    {
      "cell_type": "code",
      "execution_count": 45,
      "id": "6a54facda2729872",
      "metadata": {
        "id": "6a54facda2729872"
      },
      "outputs": [],
      "source": [
        "# Spliting dataset into train-test split\n",
        "train, test = train_test_split(df, test_size=0.2, random_state=42)"
      ]
    },
    {
      "cell_type": "markdown",
      "id": "670fcd8db0e5651c",
      "metadata": {
        "collapsed": false,
        "id": "670fcd8db0e5651c"
      },
      "source": [
        "## Create Datasets"
      ]
    },
    {
      "cell_type": "code",
      "execution_count": 46,
      "id": "3e4a5b690afadad5",
      "metadata": {
        "colab": {
          "base_uri": "https://localhost:8080/"
        },
        "id": "3e4a5b690afadad5",
        "outputId": "ca30eae1-d84a-4bad-9331-50538e2cf936"
      },
      "outputs": [
        {
          "name": "stdout",
          "output_type": "stream",
          "text": [
            "Number of Deleted 0-Len Samples: 25\n",
            "Number of Deleted 0-Len Samples: 8\n",
            "Train dataset length: 7270\n",
            "Test dataset length: 1816\n"
          ]
        }
      ],
      "source": [
        "# creating twitter dataset\n",
        "train_dataset = Twitter(dataframe=train, w2v_model=w2v_model, sequence_len=SEQUENCE_LEN)\n",
        "test_dataset = Twitter(dataframe=test, w2v_model=w2v_model, sequence_len=SEQUENCE_LEN)\n",
        "\n",
        "print(f\"Train dataset length: {len(train_dataset)}\")\n",
        "print(f\"Test dataset length: {len(test_dataset)}\")"
      ]
    },
    {
      "cell_type": "code",
      "execution_count": 47,
      "id": "iwSkZvzMLtR6",
      "metadata": {
        "colab": {
          "base_uri": "https://localhost:8080/"
        },
        "id": "iwSkZvzMLtR6",
        "outputId": "89b839be-c6aa-42fd-a872-50ec531fe63a"
      },
      "outputs": [
        {
          "name": "stdout",
          "output_type": "stream",
          "text": [
            "Sequence Length Report\n",
            ":::::MAX  LENGTH:::[ 64  ]\n",
            ":::::MIN  LENGTH:::[ 64  ]\n",
            ":::::MEAN LENGTH:::[64.0 ]\n",
            "Sequence Tokenization Report\n",
            ":::::All Unique Tokens:::[13876 ]\n",
            ":::::All test Tokens:::[ 9553 ]\n",
            ":::::test Tokens:::[68.85%]\n",
            "Sequence Length Report\n",
            ":::::MAX  LENGTH:::[ 64  ]\n",
            ":::::MIN  LENGTH:::[ 64  ]\n",
            ":::::MEAN LENGTH:::[64.0 ]\n",
            "Sequence Tokenization Report\n",
            ":::::All Unique Tokens:::[ 6207 ]\n",
            ":::::All test Tokens:::[ 4847 ]\n",
            ":::::test Tokens:::[78.09%]\n"
          ]
        }
      ],
      "source": [
        "train_dataset.seq_report()\n",
        "test_dataset.seq_report()"
      ]
    },
    {
      "cell_type": "markdown",
      "id": "fd1da733e79676ff",
      "metadata": {
        "collapsed": false,
        "id": "fd1da733e79676ff"
      },
      "source": [
        "# Part 2: Classification Using CNN"
      ]
    },
    {
      "cell_type": "markdown",
      "id": "bcbeb64d",
      "metadata": {
        "id": "bcbeb64d"
      },
      "source": [
        "## Model's Network"
      ]
    },
    {
      "cell_type": "code",
      "execution_count": 48,
      "id": "a54664ef",
      "metadata": {
        "id": "a54664ef"
      },
      "outputs": [],
      "source": [
        "class CNN(nn.Module):\n",
        "    def __init__(self, length, k_size, inp_channels, num_labels = 2):\n",
        "        super(CNN, self).__init__()\n",
        "        # Layer 1\n",
        "        self.conv1 = nn.Conv1d(\n",
        "            in_channels=inp_channels,\n",
        "            out_channels=64,\n",
        "            kernel_size=k_size,\n",
        "            padding=k_size//2\n",
        "        )\n",
        "        self.maxpool1 = nn.MaxPool1d(2)\n",
        "\n",
        "        # Layer 2\n",
        "        self.conv2 = nn.Conv1d(\n",
        "            in_channels=64,\n",
        "            out_channels=128,\n",
        "            kernel_size=k_size,\n",
        "            padding=k_size//2\n",
        "        )\n",
        "        self.maxpool2 = nn.MaxPool1d(2)\n",
        "\n",
        "        # Layer 3\n",
        "        self.flatten = nn.Flatten()\n",
        "\n",
        "        # Layer 4 and 5\n",
        "        self.fc1 = nn.Linear((length // 4) * 128, 128)\n",
        "        self.fc2 = nn.Linear(128, num_labels)\n",
        "\n",
        "    def forward(self, x):\n",
        "        # Layer 1\n",
        "        x = self.conv1(x)\n",
        "        x = F.relu(x)\n",
        "        x = self.maxpool1(x)\n",
        "\n",
        "        # Layer 2\n",
        "        x = self.conv2(x)\n",
        "        x = F.relu(x)\n",
        "        x = self.maxpool2(x)\n",
        "\n",
        "        # Layer 3\n",
        "        x = self.flatten(x)\n",
        "\n",
        "        # Layer 4 and 5\n",
        "        x = self.fc1(x)\n",
        "        x = F.relu(x)\n",
        "        x = self.fc2(x)\n",
        "        return x"
      ]
    },
    {
      "cell_type": "markdown",
      "id": "f4Yv-F0fQQpV",
      "metadata": {
        "id": "f4Yv-F0fQQpV"
      },
      "source": [
        "### What is the effect of kernel size in convolution layers and how is it effective in extracting input features? What does it mean to be more or less?"
      ]
    },
    {
      "cell_type": "markdown",
      "id": "_w8AlGNpQQdM",
      "metadata": {
        "id": "_w8AlGNpQQdM"
      },
      "source": [
        "The kernel size (also known as filter size) in convolution layers refers to the dimensions of the filter used to perform convolution operations on the input data. For a 1D convolution, the kernel size might be a single integer like 3, while for 2D convolutions, it might be a tuple of integers like (3, 3).<br>\n",
        "Practical Implications:<br>\n",
        "In NLP tasks, the choice of kernel size affects how the model captures n-grams and patterns in sequences of words or characters. Smaller kernels might focus on local word combinations, while larger kernels might capture phrases or multiple word patterns.<br>\n",
        "In computer vision, smaller kernels can detect edges and textures, while larger kernels can capture shapes and objects.<br>\n",
        "Larger kernels capture more contextual and high-level features, increase model complexity and risk of overfitting, and require more computational power.<br>\n",
        "Smaller kernels focus on local features, reduce the number of parameters, decrease the risk of overfitting, and are computationally more efficient."
      ]
    },
    {
      "cell_type": "markdown",
      "id": "d64x7pvjW2cS",
      "metadata": {
        "id": "d64x7pvjW2cS"
      },
      "source": [
        "### Why didn't we reduce the convolution output and did this reduction through feed forward layers, and what advantages can this layer have over alternative methods?"
      ]
    },
    {
      "cell_type": "markdown",
      "id": "blIMEP2MW5_G",
      "metadata": {
        "id": "blIMEP2MW5_G"
      },
      "source": [
        "In designing Convolutional Neural Networks (CNNs) for tasks such as text classification, the choice between reducing the output size through convolutional layers or doing so via feedforward (fully connected) layers has significant implications. Here are some of the reasons:<br>\n",
        "1. Feature Extraction vs. Classification:<br>\n",
        "Convolutional layers primarily serve to extract features from the input data. They capture spatial or temporal hierarchies and patterns through a series of transformations.<br>\n",
        "Fully connected Layer typically handle the task of classification. After features are extracted, these layers map the high-dimensional feature space into the target label space.\n",
        "2. Preservation of Information:<br>\n",
        "Convolutional layers reducing the size too aggressively in convolutional layers may result in the loss of important information. Keeping more feature maps through the convolutional stages allows the network to retain richer representations of the input data.<br>\n",
        "Fully connected layers once a rich set of features is extracted, fully connected layers can reduce the dimensionality in a controlled manner, ensuring that essential information is preserved for the final classification.\n",
        "\n",
        "_Alternative Methods and Their Comparisons_<br>\n",
        "- Pooling Layers (MaxPooling, AveragePooling):<br>\n",
        "Advantages: Pooling layers can reduce the spatial dimensions early on, which decreases the computational load for subsequent layers and helps in making the model more invariant to small translations in the input.<br>\n",
        "Disadvantages: Pooling can discard valuable information if not used carefully. Aggressive pooling might lead to the loss of important spatial relationships.\n",
        "- Strided Convolutions:<br>\n",
        "Advantages: Strided convolutions can downsample the feature maps, integrating feature extraction and dimensionality reduction in a single step. This can lead to simpler network architectures.<br>\n",
        "Disadvantages: Similar to pooling, strided convolutions may discard important details if the stride is too large."
      ]
    },
    {
      "cell_type": "code",
      "execution_count": 49,
      "id": "1NKOfvfIH6u7",
      "metadata": {
        "id": "1NKOfvfIH6u7"
      },
      "outputs": [],
      "source": [
        "def model_eval(model, loader, loss_function):\n",
        "    test_loss = 0\n",
        "    test_correct = 0\n",
        "    total_samples = 0\n",
        "\n",
        "    device = torch.device(\"cuda\" if torch.cuda.is_available() else \"cpu\")\n",
        "\n",
        "    model = model.to(device)\n",
        "    model.eval()\n",
        "\n",
        "    with torch.no_grad():\n",
        "        for inputs, labels in loader:\n",
        "            # moveing model's inputs to `device`\n",
        "            inputs = inputs.to(device=device)\n",
        "            labels = labels.to(device=device)\n",
        "\n",
        "            # using model's forward pass to generate outputs\n",
        "            pred = model(inputs)\n",
        "\n",
        "            # calculating model's loss\n",
        "            loss = loss_function(pred, labels)\n",
        "            test_loss += loss.item() * inputs.size(0)\n",
        "\n",
        "            # calculateing/updating model's accuracy\n",
        "            _, predicted = torch.max(pred, 1)\n",
        "            test_correct += (predicted == labels).sum().item()\n",
        "            total_samples += labels.size(0)\n",
        "            inputs = inputs.to(\"cpu\")\n",
        "            labels = labels.to(\"cpu\")\n",
        "\n",
        "    model.train()\n",
        "\n",
        "    test_loss /= total_samples\n",
        "    test_acc = test_correct / total_samples\n",
        "\n",
        "    return test_loss, test_acc\n"
      ]
    },
    {
      "cell_type": "markdown",
      "id": "IrXS0IC29r5d",
      "metadata": {
        "id": "IrXS0IC29r5d"
      },
      "source": [
        "## Training Model"
      ]
    },
    {
      "cell_type": "code",
      "execution_count": 50,
      "id": "6IGf0G1A_sEy",
      "metadata": {
        "colab": {
          "base_uri": "https://localhost:8080/"
        },
        "id": "6IGf0G1A_sEy",
        "outputId": "2471f97f-e421-44e8-f54b-bf9a540471e4"
      },
      "outputs": [
        {
          "name": "stderr",
          "output_type": "stream",
          "text": [
            "100%|██████████| 114/114 [00:01<00:00, 98.99it/s] \n"
          ]
        },
        {
          "name": "stdout",
          "output_type": "stream",
          "text": [
            "\n",
            "Epoch [1/15] Training Loss: 0.2933 Training Accuracy: 0.8730\n",
            "Test Loss: 0.2878 Test Accuracy: 0.8794\n"
          ]
        },
        {
          "name": "stderr",
          "output_type": "stream",
          "text": [
            "100%|██████████| 114/114 [00:01<00:00, 106.10it/s]\n"
          ]
        },
        {
          "name": "stdout",
          "output_type": "stream",
          "text": [
            "\n",
            "Epoch [2/15] Training Loss: 0.2093 Training Accuracy: 0.9050\n",
            "Test Loss: 0.2356 Test Accuracy: 0.9003\n"
          ]
        },
        {
          "name": "stderr",
          "output_type": "stream",
          "text": [
            "100%|██████████| 114/114 [00:01<00:00, 92.20it/s]\n"
          ]
        },
        {
          "name": "stdout",
          "output_type": "stream",
          "text": [
            "\n",
            "Epoch [3/15] Training Loss: 0.1553 Training Accuracy: 0.9343\n",
            "Test Loss: 0.2138 Test Accuracy: 0.9113\n"
          ]
        },
        {
          "name": "stderr",
          "output_type": "stream",
          "text": [
            "100%|██████████| 114/114 [00:01<00:00, 88.72it/s] \n"
          ]
        },
        {
          "name": "stdout",
          "output_type": "stream",
          "text": [
            "\n",
            "Epoch [4/15] Training Loss: 0.1266 Training Accuracy: 0.9547\n",
            "Test Loss: 0.2242 Test Accuracy: 0.9086\n"
          ]
        },
        {
          "name": "stderr",
          "output_type": "stream",
          "text": [
            "100%|██████████| 114/114 [00:01<00:00, 106.29it/s]\n"
          ]
        },
        {
          "name": "stdout",
          "output_type": "stream",
          "text": [
            "\n",
            "Epoch [5/15] Training Loss: 0.0878 Training Accuracy: 0.9747\n",
            "Test Loss: 0.2165 Test Accuracy: 0.9163\n"
          ]
        },
        {
          "name": "stderr",
          "output_type": "stream",
          "text": [
            "100%|██████████| 114/114 [00:01<00:00, 106.82it/s]\n"
          ]
        },
        {
          "name": "stdout",
          "output_type": "stream",
          "text": [
            "\n",
            "Epoch [6/15] Training Loss: 0.0577 Training Accuracy: 0.9856\n",
            "Test Loss: 0.2391 Test Accuracy: 0.9152\n"
          ]
        },
        {
          "name": "stderr",
          "output_type": "stream",
          "text": [
            "100%|██████████| 114/114 [00:01<00:00, 106.19it/s]\n"
          ]
        },
        {
          "name": "stdout",
          "output_type": "stream",
          "text": [
            "\n",
            "Epoch [7/15] Training Loss: 0.0411 Training Accuracy: 0.9905\n",
            "Test Loss: 0.2615 Test Accuracy: 0.9119\n"
          ]
        },
        {
          "name": "stderr",
          "output_type": "stream",
          "text": [
            "100%|██████████| 114/114 [00:01<00:00, 106.26it/s]\n"
          ]
        },
        {
          "name": "stdout",
          "output_type": "stream",
          "text": [
            "\n",
            "Epoch [8/15] Training Loss: 0.0287 Training Accuracy: 0.9923\n",
            "Test Loss: 0.2946 Test Accuracy: 0.9069\n"
          ]
        },
        {
          "name": "stderr",
          "output_type": "stream",
          "text": [
            "100%|██████████| 114/114 [00:01<00:00, 86.99it/s]\n"
          ]
        },
        {
          "name": "stdout",
          "output_type": "stream",
          "text": [
            "\n",
            "Epoch [9/15] Training Loss: 0.0216 Training Accuracy: 0.9948\n",
            "Test Loss: 0.3181 Test Accuracy: 0.9124\n"
          ]
        },
        {
          "name": "stderr",
          "output_type": "stream",
          "text": [
            "100%|██████████| 114/114 [00:01<00:00, 93.63it/s] \n"
          ]
        },
        {
          "name": "stdout",
          "output_type": "stream",
          "text": [
            "\n",
            "Epoch [10/15] Training Loss: 0.0175 Training Accuracy: 0.9956\n",
            "Test Loss: 0.3521 Test Accuracy: 0.9108\n"
          ]
        },
        {
          "name": "stderr",
          "output_type": "stream",
          "text": [
            "100%|██████████| 114/114 [00:01<00:00, 106.65it/s]\n"
          ]
        },
        {
          "name": "stdout",
          "output_type": "stream",
          "text": [
            "\n",
            "Epoch [11/15] Training Loss: 0.0159 Training Accuracy: 0.9957\n",
            "Test Loss: 0.3910 Test Accuracy: 0.9119\n"
          ]
        },
        {
          "name": "stderr",
          "output_type": "stream",
          "text": [
            "100%|██████████| 114/114 [00:01<00:00, 105.76it/s]\n"
          ]
        },
        {
          "name": "stdout",
          "output_type": "stream",
          "text": [
            "\n",
            "Epoch [12/15] Training Loss: 0.0151 Training Accuracy: 0.9960\n",
            "Test Loss: 0.4135 Test Accuracy: 0.9113\n"
          ]
        },
        {
          "name": "stderr",
          "output_type": "stream",
          "text": [
            "100%|██████████| 114/114 [00:01<00:00, 106.35it/s]\n"
          ]
        },
        {
          "name": "stdout",
          "output_type": "stream",
          "text": [
            "\n",
            "Epoch [13/15] Training Loss: 0.0146 Training Accuracy: 0.9963\n",
            "Test Loss: 0.4330 Test Accuracy: 0.9119\n"
          ]
        },
        {
          "name": "stderr",
          "output_type": "stream",
          "text": [
            "100%|██████████| 114/114 [00:01<00:00, 107.07it/s]\n"
          ]
        },
        {
          "name": "stdout",
          "output_type": "stream",
          "text": [
            "\n",
            "Epoch [14/15] Training Loss: 0.0146 Training Accuracy: 0.9960\n",
            "Test Loss: 0.4460 Test Accuracy: 0.9086\n"
          ]
        },
        {
          "name": "stderr",
          "output_type": "stream",
          "text": [
            "100%|██████████| 114/114 [00:01<00:00, 82.85it/s]\n"
          ]
        },
        {
          "name": "stdout",
          "output_type": "stream",
          "text": [
            "\n",
            "Epoch [15/15] Training Loss: 0.0137 Training Accuracy: 0.9964\n",
            "Test Loss: 0.4345 Test Accuracy: 0.9080\n"
          ]
        }
      ],
      "source": [
        "device = torch.device(\"cuda\" if torch.cuda.is_available() else \"cpu\")\n",
        "\n",
        "model = CNN(length = SEQUENCE_LEN, k_size = 3, inp_channels = EMBEDDING_VECTOR_DIM).to(device)\n",
        "\n",
        "loss_function = nn.CrossEntropyLoss()\n",
        "optimizer = optim.Adam(model.parameters(), lr=LEARNING_RATE)\n",
        "\n",
        "train_losses = []\n",
        "train_accs = []\n",
        "test_losses = []\n",
        "test_accs = []\n",
        "\n",
        "# creating dataloaders from datasets\n",
        "train_loader = DataLoader(train_dataset, batch_size=BATCH_SIZE, shuffle=True)\n",
        "test_loader = DataLoader(test_dataset, batch_size=BATCH_SIZE, shuffle=True)\n",
        "\n",
        "for epoch in range(EPOCHS):\n",
        "    for idx, (inputs, labels) in enumerate(tqdm(train_loader)):\n",
        "        # moving model's inputs and outputs to cuda\n",
        "        inputs = inputs.to(device=device)\n",
        "        labels = labels.to(device=device)\n",
        "\n",
        "        # using model's forward pass to generate outputs\n",
        "        pred = model(inputs)\n",
        "        loss = loss_function(pred, labels)\n",
        "\n",
        "        # 1. clearing optimizer's state and zero prev grads\n",
        "        optimizer.zero_grad()\n",
        "\n",
        "        # 2. backwarding calculated loss\n",
        "        loss.backward()\n",
        "\n",
        "        # 3. steping optimizer\n",
        "        optimizer.step()\n",
        "\n",
        "        inputs = inputs.to(\"cpu\")\n",
        "        labels = labels.to(\"cpu\")\n",
        "\n",
        "\n",
        "    train_loss, train_acc = model_eval(\n",
        "        model=model,\n",
        "        loader=train_loader,\n",
        "        loss_function=loss_function,\n",
        "        )\n",
        "    train_losses.append(train_loss)\n",
        "    train_accs.append(train_acc)\n",
        "\n",
        "    test_loss, test_acc = model_eval(\n",
        "        model=model,\n",
        "        loader=test_loader,\n",
        "        loss_function=loss_function,\n",
        "        )\n",
        "    test_losses.append(test_loss)\n",
        "    test_accs.append(test_acc)\n",
        "\n",
        "    # Printing epoch statistics\n",
        "    print(f\"\\nEpoch [{epoch + 1}/{EPOCHS}] Training Loss: {train_loss:.4f} Training Accuracy: {train_acc:.4f}\")\n",
        "    print(f\"Test Loss: {test_loss:.4f} Test Accuracy: {test_acc:.4f}\")\n",
        "\n",
        "history = {\n",
        "    \"train_loss\": train_losses,\n",
        "    \"train_acc\": train_accs,\n",
        "\n",
        "    \"test_loss\": test_losses,\n",
        "    \"test_acc\": test_accs,\n",
        "}"
      ]
    },
    {
      "cell_type": "markdown",
      "id": "39X-PG_jHc6I",
      "metadata": {
        "id": "39X-PG_jHc6I"
      },
      "source": [
        "### Briefly explain how the SGD optimizer works and how it differs from the Adam optimizer."
      ]
    },
    {
      "cell_type": "markdown",
      "id": "4tSLwWgiHhrw",
      "metadata": {
        "id": "4tSLwWgiHhrw"
      },
      "source": [
        "**SGD**<br>\n",
        "Stochastic Gradient Descent (SGD) is a variant of the Gradient Descent optimization algorithm used to minimize a loss function in machine learning models. Instead of computing the gradient of the loss function using the entire dataset (as in Batch Gradient Descent), SGD updates the model parameters using the gradient computed from a randomly selected subset of the data, often just a single data point.<br>\n",
        "**Adam**<br>\n",
        "Adam (short for Adaptive Moment Estimation) is an optimization algorithm that combines the advantages of two other extensions of SGD: AdaGrad and RMSProp. It computes adaptive learning rates for each parameter by maintaining running averages of both the gradients and the squared gradients.<br>\n",
        "_Difference:_<br>\n",
        "SGD is simpler and computationally efficient but it can be noisy and unstable. Adam, on the other hand, offers adaptive learning rates and typically more stable and faster convergence, though it is computationally more complex."
      ]
    },
    {
      "cell_type": "markdown",
      "id": "uKuoO40RMlD4",
      "metadata": {
        "id": "uKuoO40RMlD4"
      },
      "source": [
        "### Explain the reason for using the Cross Entropy cost function according to the nature of the problem."
      ]
    },
    {
      "cell_type": "markdown",
      "id": "rvkQd-OmNV3t",
      "metadata": {
        "id": "rvkQd-OmNV3t"
      },
      "source": [
        "The Cross Entropy (or Log Loss) cost function is commonly used in binary and multi-class classification problems. It measures the performance of a classification model whose output is a probability value between 0 and 1.\n",
        "\n",
        "**Reasons for Using Cross Entropy**\n",
        "1. Probabilistic Interpretation:<br>\n",
        "Cross Entropy is well-suited for models that output probabilities. In the context of classifying tweets, the model outputs the probability that a tweet belongs to the \"suicidal\" class. Cross Entropy directly measures how well the predicted probability distribution aligns with the actual distribution of the data.\n",
        "2. Penalizing Confident but Wrong Predictions:<br>\n",
        "Cross Entropy penalizes predictions that are both wrong and confident more heavily. For instance, if the model is very confident (e.g., predicts a probability close to 1) that a non-suicidal tweet is suicidal, the loss will be very high. This helps the model learn not to make such confident errors.\n",
        "\n",
        "3. Gradient-Based Optimization:<br>\n",
        "The Cross Entropy loss function works well with gradient descent optimization methods. It provides smooth gradients that help in efficiently updating the model's parameters during training, leading to faster and more reliable convergence.\n",
        "\n",
        "4. Interpretability and Calibration:<br>\n",
        "The probabilities produced by a model trained with Cross Entropy are typically well-calibrated, meaning the predicted probabilities reflect the actual likelihood of the classes. This is particularly important in sensitive applications like detecting suicidal tweets, where understanding the confidence of the model's predictions can be crucial.\n",
        "\n",
        "5. Handling Imbalanced Data:<br>\n",
        "In many real-world scenarios, including the classification of suicidal tweets, the dataset can be imbalanced (e.g., there are fewer suicidal tweets than non-suicidal ones). Cross Entropy loss, especially when combined with techniques like class weighting, can help the model handle such imbalance more effectively."
      ]
    },
    {
      "cell_type": "markdown",
      "id": "cO0L96JadekL",
      "metadata": {
        "id": "cO0L96JadekL"
      },
      "source": [
        "### Impact of hypermeters"
      ]
    },
    {
      "cell_type": "markdown",
      "id": "hTdd6FlKdeg7",
      "metadata": {
        "id": "hTdd6FlKdeg7"
      },
      "source": [
        "**Learning Rate:**<br>\n",
        "- Effect: The learning rate determines the size of the steps taken during the optimization process (e.g., gradient descent) to update the model parameters.\n",
        "- Impact:\n",
        " 1. Too high a learning rate can cause the optimization process to diverge, leading to unstable training and potentially poor convergence.\n",
        " 2. Too low a learning rate can result in slow convergence or getting stuck in local minima.\n",
        " 3. An appropriate learning rate is essential for achieving faster convergence and better generalization.\n",
        "\n",
        "**Batch Size:**<br>\n",
        "- Effect: Batch size determines the number of samples processed before updating the model parameters during training.\n",
        "- Impact:\n",
        " 1. A larger batch size can result in more stable gradients and faster convergence because it provides more accurate estimates of the gradient direction.\n",
        " 2. However, larger batch sizes require more memory, which can limit the size of the model or the size of the dataset that can fit into memory.\n",
        " 3. Smaller batch sizes might result in noisier gradient estimates but can sometimes help the model generalize better.\n",
        "\n",
        "**Number of Epochs:**<br>\n",
        "- Effect: An epoch is one complete pass through the entire dataset during training.\n",
        "- Impact:\n",
        " 1. Training for too few epochs might result in underfitting, where the model hasn't learned enough from the data.\n",
        " 2. Training for too many epochs can lead to overfitting, where the model learns the training data too well but fails to generalize to unseen data.\n",
        " 3. The appropriate number of epochs depends on factors such as the complexity of the model, the size of the dataset, and the learning rate."
      ]
    },
    {
      "cell_type": "code",
      "execution_count": 51,
      "id": "6e5acc20a7d5d446",
      "metadata": {
        "id": "6e5acc20a7d5d446"
      },
      "outputs": [],
      "source": [
        "def trend_plot_helper(pobj):\n",
        "    plt.figure(figsize=(5*len(pobj), 5))\n",
        "    for idx, (titler, plots) in enumerate(pobj.items(), start=1):\n",
        "        plt.subplot(1, len(pobj), idx)\n",
        "        for label, trend in plots:\n",
        "            plt.plot(range(1, len(trend)+1), trend, label=label)\n",
        "        yt, xt = titler.split(' - ')\n",
        "        plt.xlabel(xt)\n",
        "        plt.ylabel(yt)\n",
        "        plt.legend()"
      ]
    },
    {
      "cell_type": "code",
      "execution_count": 52,
      "id": "819f88c36492de48",
      "metadata": {
        "id": "819f88c36492de48"
      },
      "outputs": [],
      "source": [
        "def generate_confusion_matrix(model, loader):\n",
        "    device = torch.device(\"cuda\" if torch.cuda.is_available() else \"cpu\")\n",
        "\n",
        "    model = model.to(device)\n",
        "    model.eval()\n",
        "\n",
        "    labels = []\n",
        "    predictions = []\n",
        "    with torch.no_grad():\n",
        "        for inputs, labls in loader:\n",
        "            # Move inputs and labels to the specified device\n",
        "            inputs = inputs.to(device = device)\n",
        "            labls =  labls.to(device = device)\n",
        "\n",
        "            # Forward pass to get model's predictions\n",
        "            outputs = model(inputs)\n",
        "\n",
        "            # Get the predicted class\n",
        "            _, predicted = torch.max(outputs, 1)\n",
        "\n",
        "            # Collect all true labels and predictions\n",
        "            labels.extend(labls.cpu().numpy())\n",
        "            predictions.extend(predicted.cpu().numpy())\n",
        "\n",
        "        cm = metrics.confusion_matrix(y_true=labels, y_pred=predictions)\n",
        "        plt.figure(figsize=(5,5))\n",
        "        sns.heatmap(cm, cmap='Blues', annot=True, cbar=False, fmt=\".0f\",)\n",
        "        plt.xlabel('Predicted Label', labelpad=20)\n",
        "        plt.ylabel('True Label', labelpad=20)\n",
        "        plt.title('Confusion Matrix', fontsize=20)\n",
        "\n",
        "        recall = metrics.recall_score(y_true=labels, y_pred=predictions, average='macro')\n",
        "        f1 = metrics.f1_score(y_true=labels, y_pred=predictions, average='macro')\n",
        "        precision = metrics.precision_score(y_true=labels, y_pred=predictions, average='macro')\n",
        "        report = metrics.classification_report(y_true=labels, y_pred=predictions)\n",
        "\n",
        "        return {'recall': recall, 'f1': f1, 'precision': precision, 'report': report}\n"
      ]
    },
    {
      "cell_type": "code",
      "execution_count": 53,
      "id": "ac375ced89f224ce",
      "metadata": {
        "colab": {
          "base_uri": "https://localhost:8080/",
          "height": 465
        },
        "id": "ac375ced89f224ce",
        "outputId": "9ab6544e-616d-4a46-fd02-41df60dedcdf"
      },
      "outputs": [
        {
          "data": {
            "image/png": "[encoded data removed]",
            "text/plain": [
              "<Figure size 1000x500 with 2 Axes>"
            ]
          },
          "metadata": {},
          "output_type": "display_data"
        }
      ],
      "source": [
        "trend_plot_helper(\n",
        "    {\n",
        "        \"Accuracy - Epoch\": [\n",
        "            (\"Train Acc\", history[\"train_acc\"]),\n",
        "            (\"Test Acc\", history[\"test_acc\"]),\n",
        "        ],\n",
        "        \"Loss - Epoch\": [\n",
        "            (\"Train Loss\", history[\"train_loss\"]),\n",
        "            (\"Test Loss\", history[\"test_loss\"])\n",
        "        ]\n",
        "    }\n",
        ")"
      ]
    },
    {
      "cell_type": "code",
      "execution_count": 54,
      "id": "a09473d5783fa70f",
      "metadata": {
        "colab": {
          "base_uri": "https://localhost:8080/",
          "height": 517
        },
        "id": "a09473d5783fa70f",
        "outputId": "582239eb-1d21-4df5-8965-e0666746b770"
      },
      "outputs": [
        {
          "data": {
            "image/png": "[encoded data removed]",
            "text/plain": [
              "<Figure size 500x500 with 1 Axes>"
            ]
          },
          "metadata": {},
          "output_type": "display_data"
        }
      ],
      "source": [
        "model_report = generate_confusion_matrix(model=model, loader=test_loader)"
      ]
    },
    {
      "cell_type": "code",
      "execution_count": 55,
      "id": "8ee01e4607601dd8",
      "metadata": {
        "colab": {
          "base_uri": "https://localhost:8080/"
        },
        "id": "8ee01e4607601dd8",
        "outputId": "67aa45b2-0502-49cb-fbe9-70f9ed2e6714"
      },
      "outputs": [
        {
          "name": "stdout",
          "output_type": "stream",
          "text": [
            "Recall:    0.906\n",
            "F1:        0.907\n",
            "Precision: 0.907\n",
            "              precision    recall  f1-score   support\n",
            "\n",
            "           0       0.91      0.92      0.92      1011\n",
            "           1       0.90      0.89      0.90       805\n",
            "\n",
            "    accuracy                           0.91      1816\n",
            "   macro avg       0.91      0.91      0.91      1816\n",
            "weighted avg       0.91      0.91      0.91      1816\n",
            "\n"
          ]
        }
      ],
      "source": [
        "print(f\"Recall:    {model_report['recall']:.3f}\")\n",
        "print(f\"F1:        {model_report['f1']:.3f}\")\n",
        "print(f\"Precision: {model_report['precision']:.3f}\")\n",
        "print(model_report['report'])"
      ]
    },
    {
      "cell_type": "markdown",
      "id": "A3eGsDrC9Kaj",
      "metadata": {
        "id": "A3eGsDrC9Kaj"
      },
      "source": [
        "# Part 3: Effect of Context Window in Model Traing"
      ]
    },
    {
      "cell_type": "markdown",
      "id": "RBFk6cJEjHS2",
      "metadata": {
        "id": "RBFk6cJEjHS2"
      },
      "source": [
        "### In a convolutional neural network, what advantages and disadvantages can increasing the size of the context window(so that it is more than all the sentences in the dataset) have?"
      ]
    },
    {
      "cell_type": "markdown",
      "id": "Vy4ytQo1kaSc",
      "metadata": {
        "id": "Vy4ytQo1kaSc"
      },
      "source": [
        "Advantages:<br>\n",
        "1. `Global Contextual Information`: A larger context window allows the model to capture more global contextual information from the input text. This can be beneficial for tasks where understanding the entire document or a larger context is crucial, such as document classification or sentiment analysis.\n",
        "\n",
        "2. `Long-range Dependencies`: With a larger context window, the model can capture long-range dependencies between words or tokens in the input text. This is particularly useful for tasks where understanding the relationships between distant words or entities is important, such as in question answering or document summarization.\n",
        "\n",
        "3. `Improved Representation Learning`: By considering a wider context, the model may learn more robust and informative representations of the input text, which can lead to better generalization and performance on downstream tasks.\n",
        "\n",
        "Disadvantages:<br>\n",
        "1. `Increased Computational Complexity`: As the size of the context window increases, the computational complexity of the CNN also increases. Processing a larger context window requires more memory and computational resources, which can make training and inference slower and more resource-intensive.\n",
        "\n",
        "2. `Potential Information Overload`: Including too much irrelevant context in the input can introduce noise and make it more challenging for the model to focus on relevant information. This can lead to decreased performance, especially if the dataset contains a lot of noise or irrelevant information.\n",
        "\n",
        "3. `Difficulty in Learning Local Patterns`: With a larger context window, the model may focus more on capturing global patterns and context, potentially at the expense of learning local patterns and nuances in the input text. This can be detrimental for tasks where understanding local context or semantics is critical.\n",
        "\n",
        "4. `Risk of Oversmoothing`: A larger context window may lead to oversmoothing of the input text, where fine-grained details and distinctions between different parts of the input are lost. This can result in less discriminative representations and reduced performance on tasks that require capturing subtle differences."
      ]
    },
    {
      "cell_type": "markdown",
      "id": "Zp3VpPbqlfUf",
      "metadata": {
        "id": "Zp3VpPbqlfUf"
      },
      "source": [
        "## New model with context window = 196"
      ]
    },
    {
      "cell_type": "code",
      "execution_count": 56,
      "id": "IjPz_oOMoxou",
      "metadata": {
        "id": "IjPz_oOMoxou"
      },
      "outputs": [],
      "source": [
        "NEW_SEQUENCE_LEN = 196"
      ]
    },
    {
      "cell_type": "code",
      "execution_count": 57,
      "id": "YBxx2raQn8az",
      "metadata": {
        "colab": {
          "base_uri": "https://localhost:8080/"
        },
        "id": "YBxx2raQn8az",
        "outputId": "b5c88df1-7771-46ff-acd2-96f11fcff360"
      },
      "outputs": [
        {
          "name": "stdout",
          "output_type": "stream",
          "text": [
            "Number of Deleted 0-Len Samples: 25\n",
            "Number of Deleted 0-Len Samples: 8\n",
            "Train dataset length: 7270\n",
            "Test dataset length: 1816\n"
          ]
        }
      ],
      "source": [
        "train_dataset1 = Twitter(dataframe=train, w2v_model=w2v_model, sequence_len=NEW_SEQUENCE_LEN)\n",
        "test_dataset1 = Twitter(dataframe=test, w2v_model=w2v_model, sequence_len=NEW_SEQUENCE_LEN)\n",
        "\n",
        "print(f\"Train dataset length: {len(train_dataset1)}\")\n",
        "print(f\"Test dataset length: {len(test_dataset1)}\")"
      ]
    },
    {
      "cell_type": "code",
      "execution_count": 58,
      "id": "malFPrL1oGQK",
      "metadata": {
        "colab": {
          "base_uri": "https://localhost:8080/"
        },
        "id": "malFPrL1oGQK",
        "outputId": "3b3f6a04-bab5-498c-d997-694c8598d7c4"
      },
      "outputs": [
        {
          "name": "stdout",
          "output_type": "stream",
          "text": [
            "Sequence Length Report\n",
            ":::::MAX  LENGTH:::[ 196 ]\n",
            ":::::MIN  LENGTH:::[ 196 ]\n",
            ":::::MEAN LENGTH:::[196.0]\n",
            "Sequence Tokenization Report\n",
            ":::::All Unique Tokens:::[16865 ]\n",
            ":::::All test Tokens:::[11059 ]\n",
            ":::::test Tokens:::[65.57%]\n",
            "Sequence Length Report\n",
            ":::::MAX  LENGTH:::[ 196 ]\n",
            ":::::MIN  LENGTH:::[ 196 ]\n",
            ":::::MEAN LENGTH:::[196.0]\n",
            "Sequence Tokenization Report\n",
            ":::::All Unique Tokens:::[ 7497 ]\n",
            ":::::All test Tokens:::[ 5661 ]\n",
            ":::::test Tokens:::[75.51%]\n"
          ]
        }
      ],
      "source": [
        "train_dataset1.seq_report()\n",
        "test_dataset1.seq_report()"
      ]
    },
    {
      "cell_type": "code",
      "execution_count": 59,
      "id": "90RgLzIIoIur",
      "metadata": {
        "colab": {
          "base_uri": "https://localhost:8080/"
        },
        "id": "90RgLzIIoIur",
        "outputId": "022c040c-3d7e-4649-ab71-896a46901dd0"
      },
      "outputs": [
        {
          "name": "stderr",
          "output_type": "stream",
          "text": [
            "100%|██████████| 114/114 [00:02<00:00, 41.85it/s]\n"
          ]
        },
        {
          "name": "stdout",
          "output_type": "stream",
          "text": [
            "\n",
            "Epoch [1/15] Training Loss: 0.2927 Training Accuracy: 0.8758\n",
            "Test Loss: 0.2867 Test Accuracy: 0.8767\n"
          ]
        },
        {
          "name": "stderr",
          "output_type": "stream",
          "text": [
            "100%|██████████| 114/114 [00:02<00:00, 46.80it/s]\n"
          ]
        },
        {
          "name": "stdout",
          "output_type": "stream",
          "text": [
            "\n",
            "Epoch [2/15] Training Loss: 0.2067 Training Accuracy: 0.9116\n",
            "Test Loss: 0.2303 Test Accuracy: 0.9014\n"
          ]
        },
        {
          "name": "stderr",
          "output_type": "stream",
          "text": [
            "100%|██████████| 114/114 [00:02<00:00, 46.07it/s]\n"
          ]
        },
        {
          "name": "stdout",
          "output_type": "stream",
          "text": [
            "\n",
            "Epoch [3/15] Training Loss: 0.1698 Training Accuracy: 0.9316\n",
            "Test Loss: 0.2201 Test Accuracy: 0.9086\n"
          ]
        },
        {
          "name": "stderr",
          "output_type": "stream",
          "text": [
            "100%|██████████| 114/114 [00:02<00:00, 46.35it/s]\n"
          ]
        },
        {
          "name": "stdout",
          "output_type": "stream",
          "text": [
            "\n",
            "Epoch [4/15] Training Loss: 0.1483 Training Accuracy: 0.9345\n",
            "Test Loss: 0.2349 Test Accuracy: 0.9080\n"
          ]
        },
        {
          "name": "stderr",
          "output_type": "stream",
          "text": [
            "100%|██████████| 114/114 [00:03<00:00, 36.56it/s]\n"
          ]
        },
        {
          "name": "stdout",
          "output_type": "stream",
          "text": [
            "\n",
            "Epoch [5/15] Training Loss: 0.1142 Training Accuracy: 0.9542\n",
            "Test Loss: 0.2342 Test Accuracy: 0.9130\n"
          ]
        },
        {
          "name": "stderr",
          "output_type": "stream",
          "text": [
            "100%|██████████| 114/114 [00:02<00:00, 46.41it/s]\n"
          ]
        },
        {
          "name": "stdout",
          "output_type": "stream",
          "text": [
            "\n",
            "Epoch [6/15] Training Loss: 0.0852 Training Accuracy: 0.9737\n",
            "Test Loss: 0.2318 Test Accuracy: 0.9064\n"
          ]
        },
        {
          "name": "stderr",
          "output_type": "stream",
          "text": [
            "100%|██████████| 114/114 [00:02<00:00, 45.15it/s]\n"
          ]
        },
        {
          "name": "stdout",
          "output_type": "stream",
          "text": [
            "\n",
            "Epoch [7/15] Training Loss: 0.0591 Training Accuracy: 0.9828\n",
            "Test Loss: 0.2731 Test Accuracy: 0.9064\n"
          ]
        },
        {
          "name": "stderr",
          "output_type": "stream",
          "text": [
            "100%|██████████| 114/114 [00:02<00:00, 46.38it/s]\n"
          ]
        },
        {
          "name": "stdout",
          "output_type": "stream",
          "text": [
            "\n",
            "Epoch [8/15] Training Loss: 0.0464 Training Accuracy: 0.9876\n",
            "Test Loss: 0.2986 Test Accuracy: 0.8965\n"
          ]
        },
        {
          "name": "stderr",
          "output_type": "stream",
          "text": [
            "100%|██████████| 114/114 [00:02<00:00, 47.11it/s]\n"
          ]
        },
        {
          "name": "stdout",
          "output_type": "stream",
          "text": [
            "\n",
            "Epoch [9/15] Training Loss: 0.0284 Training Accuracy: 0.9933\n",
            "Test Loss: 0.3031 Test Accuracy: 0.9157\n"
          ]
        },
        {
          "name": "stderr",
          "output_type": "stream",
          "text": [
            "100%|██████████| 114/114 [00:03<00:00, 37.45it/s]\n"
          ]
        },
        {
          "name": "stdout",
          "output_type": "stream",
          "text": [
            "\n",
            "Epoch [10/15] Training Loss: 0.0213 Training Accuracy: 0.9950\n",
            "Test Loss: 0.3233 Test Accuracy: 0.9069\n"
          ]
        },
        {
          "name": "stderr",
          "output_type": "stream",
          "text": [
            "100%|██████████| 114/114 [00:02<00:00, 46.62it/s]\n"
          ]
        },
        {
          "name": "stdout",
          "output_type": "stream",
          "text": [
            "\n",
            "Epoch [11/15] Training Loss: 0.0232 Training Accuracy: 0.9937\n",
            "Test Loss: 0.4060 Test Accuracy: 0.9080\n"
          ]
        },
        {
          "name": "stderr",
          "output_type": "stream",
          "text": [
            "100%|██████████| 114/114 [00:02<00:00, 43.90it/s]\n"
          ]
        },
        {
          "name": "stdout",
          "output_type": "stream",
          "text": [
            "\n",
            "Epoch [12/15] Training Loss: 0.0151 Training Accuracy: 0.9957\n",
            "Test Loss: 0.3754 Test Accuracy: 0.9097\n"
          ]
        },
        {
          "name": "stderr",
          "output_type": "stream",
          "text": [
            "100%|██████████| 114/114 [00:02<00:00, 47.32it/s]\n"
          ]
        },
        {
          "name": "stdout",
          "output_type": "stream",
          "text": [
            "\n",
            "Epoch [13/15] Training Loss: 0.0153 Training Accuracy: 0.9959\n",
            "Test Loss: 0.4223 Test Accuracy: 0.9135\n"
          ]
        },
        {
          "name": "stderr",
          "output_type": "stream",
          "text": [
            "100%|██████████| 114/114 [00:02<00:00, 46.73it/s]\n"
          ]
        },
        {
          "name": "stdout",
          "output_type": "stream",
          "text": [
            "\n",
            "Epoch [14/15] Training Loss: 0.0155 Training Accuracy: 0.9957\n",
            "Test Loss: 0.4476 Test Accuracy: 0.9080\n"
          ]
        },
        {
          "name": "stderr",
          "output_type": "stream",
          "text": [
            "100%|██████████| 114/114 [00:02<00:00, 39.35it/s]\n"
          ]
        },
        {
          "name": "stdout",
          "output_type": "stream",
          "text": [
            "\n",
            "Epoch [15/15] Training Loss: 0.0223 Training Accuracy: 0.9953\n",
            "Test Loss: 0.4747 Test Accuracy: 0.9080\n"
          ]
        }
      ],
      "source": [
        "device = torch.device(\"cuda\" if torch.cuda.is_available() else \"cpu\")\n",
        "\n",
        "model1 = CNN(length = NEW_SEQUENCE_LEN, k_size = 3, inp_channels = EMBEDDING_VECTOR_DIM).to(device)\n",
        "\n",
        "optimizer1 = optim.Adam(model1.parameters(), lr=LEARNING_RATE)\n",
        "\n",
        "\n",
        "train_losses1 = []\n",
        "train_accs1 = []\n",
        "test_losses1 = []\n",
        "test_accs1 = []\n",
        "\n",
        "# creating dataloaders from datasets\n",
        "train_loader1 = DataLoader(train_dataset1, batch_size=BATCH_SIZE, shuffle=True)\n",
        "test_loader1 = DataLoader(test_dataset1, batch_size=BATCH_SIZE, shuffle=True)\n",
        "\n",
        "for epoch in range(EPOCHS):\n",
        "    for idx, (inputs, labels) in enumerate(tqdm(train_loader1)):\n",
        "        # moving model's inputs and outputs to cuda\n",
        "        inputs = inputs.to(device=device)\n",
        "        labels = labels.to(device=device)\n",
        "\n",
        "        # using model's forward pass to generate outputs\n",
        "        pred = model1(inputs)\n",
        "        loss = loss_function(pred, labels)\n",
        "\n",
        "        # 1. clearing optimizer's state and zero prev grads\n",
        "        optimizer1.zero_grad()\n",
        "\n",
        "        # 2. backwarding calculated loss\n",
        "        loss.backward()\n",
        "\n",
        "        # 3. steping optimizer\n",
        "        optimizer1.step()\n",
        "\n",
        "        inputs = inputs.to(\"cpu\")\n",
        "        labels = labels.to(\"cpu\")\n",
        "\n",
        "\n",
        "    train_loss, train_acc = model_eval(\n",
        "        model=model1,\n",
        "        loader=train_loader1,\n",
        "        loss_function=loss_function,\n",
        "        )\n",
        "    train_losses1.append(train_loss)\n",
        "    train_accs1.append(train_acc)\n",
        "\n",
        "    test_loss, test_acc = model_eval(\n",
        "        model=model1,\n",
        "        loader=test_loader1,\n",
        "        loss_function=loss_function,\n",
        "        )\n",
        "    test_losses1.append(test_loss)\n",
        "    test_accs1.append(test_acc)\n",
        "\n",
        "    # Printing epoch statistics\n",
        "    print(f\"\\nEpoch [{epoch + 1}/{EPOCHS}] Training Loss: {train_loss:.4f} Training Accuracy: {train_acc:.4f}\")\n",
        "    print(f\"Test Loss: {test_loss:.4f} Test Accuracy: {test_acc:.4f}\")\n",
        "\n",
        "history1 = {\n",
        "    \"train_loss\": train_losses1,\n",
        "    \"train_acc\": train_accs1,\n",
        "\n",
        "    \"test_loss\": test_losses1,\n",
        "    \"test_acc\": test_accs1,\n",
        "}"
      ]
    },
    {
      "cell_type": "code",
      "execution_count": 60,
      "id": "3gp_iQADqBDA",
      "metadata": {
        "colab": {
          "base_uri": "https://localhost:8080/",
          "height": 465
        },
        "id": "3gp_iQADqBDA",
        "outputId": "a00f11ed-e26c-46fb-c267-71e9e12e1976"
      },
      "outputs": [
        {
          "data": {
            "image/png": "[encoded data removed]",
            "text/plain": [
              "<Figure size 1000x500 with 2 Axes>"
            ]
          },
          "metadata": {},
          "output_type": "display_data"
        }
      ],
      "source": [
        "trend_plot_helper(\n",
        "    {\n",
        "        \"Accuracy - Epoch\": [\n",
        "            (\"Train Acc\", history1[\"train_acc\"]),\n",
        "            (\"Test Acc\", history1[\"test_acc\"]),\n",
        "        ],\n",
        "        \"Loss - Epoch\": [\n",
        "            (\"Train Loss\", history1[\"train_loss\"]),\n",
        "            (\"Test Loss\", history1[\"test_loss\"])\n",
        "        ]\n",
        "    }\n",
        ")"
      ]
    },
    {
      "cell_type": "code",
      "execution_count": 61,
      "id": "OfA5PIeSqIm_",
      "metadata": {
        "colab": {
          "base_uri": "https://localhost:8080/",
          "height": 517
        },
        "id": "OfA5PIeSqIm_",
        "outputId": "fd347b91-79f1-4617-f1af-a6bb5fc63bf4"
      },
      "outputs": [
        {
          "data": {
            "image/png": "[encoded data removed]",
            "text/plain": [
              "<Figure size 500x500 with 1 Axes>"
            ]
          },
          "metadata": {},
          "output_type": "display_data"
        }
      ],
      "source": [
        "model_report1 = generate_confusion_matrix(model=model1, loader=test_loader1)"
      ]
    },
    {
      "cell_type": "code",
      "execution_count": 62,
      "id": "JB8VRhKnqO0s",
      "metadata": {
        "colab": {
          "base_uri": "https://localhost:8080/"
        },
        "id": "JB8VRhKnqO0s",
        "outputId": "4c74d793-be2c-4f36-ac6b-11a1167aacfa"
      },
      "outputs": [
        {
          "name": "stdout",
          "output_type": "stream",
          "text": [
            "Recall:    0.905\n",
            "F1:        0.907\n",
            "Precision: 0.908\n",
            "              precision    recall  f1-score   support\n",
            "\n",
            "           0       0.91      0.93      0.92      1011\n",
            "           1       0.91      0.88      0.89       805\n",
            "\n",
            "    accuracy                           0.91      1816\n",
            "   macro avg       0.91      0.91      0.91      1816\n",
            "weighted avg       0.91      0.91      0.91      1816\n",
            "\n"
          ]
        }
      ],
      "source": [
        "print(f\"Recall:    {model_report1['recall']:.3f}\")\n",
        "print(f\"F1:        {model_report1['f1']:.3f}\")\n",
        "print(f\"Precision: {model_report1['precision']:.3f}\")\n",
        "print(model_report1['report'])"
      ]
    },
    {
      "cell_type": "markdown",
      "id": "ElEqFCLn9KWc",
      "metadata": {
        "id": "ElEqFCLn9KWc"
      },
      "source": [
        "# Part 4: Effect of Regularization Methods in Training Methods"
      ]
    },
    {
      "cell_type": "markdown",
      "id": "DBbdkGzVtBBe",
      "metadata": {
        "id": "DBbdkGzVtBBe"
      },
      "source": [
        "## New model with Dropout and Batch Normalization Layers"
      ]
    },
    {
      "cell_type": "code",
      "execution_count": 72,
      "id": "L_WiVy7ptLCn",
      "metadata": {
        "id": "L_WiVy7ptLCn"
      },
      "outputs": [],
      "source": [
        "class CNN2(nn.Module):\n",
        "    def __init__(self, length, k_size, inp_channels, num_labels = 2):\n",
        "        super(CNN2, self).__init__()\n",
        "        self.conv1 = nn.Conv1d(\n",
        "            in_channels=inp_channels,\n",
        "            out_channels=64,\n",
        "            kernel_size=k_size,\n",
        "            padding=k_size//2\n",
        "        )\n",
        "        self.bn1 = nn.BatchNorm1d(64)\n",
        "        self.dropout1 = nn.Dropout(0.5)\n",
        "        self.maxpool1 = nn.MaxPool1d(2)\n",
        "\n",
        "        self.conv2 = nn.Conv1d(\n",
        "            in_channels=64,\n",
        "            out_channels=128,\n",
        "            kernel_size=k_size,\n",
        "            padding=k_size//2\n",
        "        )\n",
        "        self.bn2 = nn.BatchNorm1d(128)\n",
        "        self.dropout2 = nn.Dropout(0.5)\n",
        "        self.maxpool2 = nn.MaxPool1d(2)\n",
        "\n",
        "        self.flatten = nn.Flatten()\n",
        "        self.fc1 = nn.Linear((length // 4) * 128, 128)\n",
        "        self.fc2 = nn.Linear(128, num_labels)\n",
        "\n",
        "    def forward(self, x):\n",
        "        x = self.conv1(x)\n",
        "        x = self.bn1(x)\n",
        "        x = F.relu(x)\n",
        "        x = self.dropout1(x)\n",
        "        x = self.maxpool1(x)\n",
        "\n",
        "        x = self.conv2(x)\n",
        "        x = self.bn2(x)\n",
        "        x = F.relu(x)\n",
        "        x = self.dropout2(x)\n",
        "        x = self.maxpool2(x)\n",
        "\n",
        "        x = self.flatten(x)\n",
        "\n",
        "        x = self.fc1(x)\n",
        "        x = F.relu(x)\n",
        "        x = self.fc2(x)\n",
        "        return x"
      ]
    },
    {
      "cell_type": "code",
      "execution_count": 73,
      "id": "aQXXuj3xv-IZ",
      "metadata": {
        "colab": {
          "base_uri": "https://localhost:8080/"
        },
        "id": "aQXXuj3xv-IZ",
        "outputId": "be8d12ac-11f5-49c2-b7eb-a588dd60ff19"
      },
      "outputs": [
        {
          "name": "stderr",
          "output_type": "stream",
          "text": [
            "100%|██████████| 114/114 [00:01<00:00, 98.28it/s]\n"
          ]
        },
        {
          "name": "stdout",
          "output_type": "stream",
          "text": [
            "\n",
            "Epoch [1/15] Training Loss: 0.2449 Training Accuracy: 0.9063\n",
            "Test Loss: 0.2602 Test Accuracy: 0.8937\n"
          ]
        },
        {
          "name": "stderr",
          "output_type": "stream",
          "text": [
            "100%|██████████| 114/114 [00:01<00:00, 102.35it/s]\n"
          ]
        },
        {
          "name": "stdout",
          "output_type": "stream",
          "text": [
            "\n",
            "Epoch [2/15] Training Loss: 0.2161 Training Accuracy: 0.9304\n",
            "Test Loss: 0.2469 Test Accuracy: 0.9047\n"
          ]
        },
        {
          "name": "stderr",
          "output_type": "stream",
          "text": [
            "100%|██████████| 114/114 [00:01<00:00, 83.00it/s]\n"
          ]
        },
        {
          "name": "stdout",
          "output_type": "stream",
          "text": [
            "\n",
            "Epoch [3/15] Training Loss: 0.1689 Training Accuracy: 0.9494\n",
            "Test Loss: 0.2183 Test Accuracy: 0.9097\n"
          ]
        },
        {
          "name": "stderr",
          "output_type": "stream",
          "text": [
            "100%|██████████| 114/114 [00:01<00:00, 97.93it/s] \n"
          ]
        },
        {
          "name": "stdout",
          "output_type": "stream",
          "text": [
            "\n",
            "Epoch [4/15] Training Loss: 0.1461 Training Accuracy: 0.9527\n",
            "Test Loss: 0.2089 Test Accuracy: 0.9174\n"
          ]
        },
        {
          "name": "stderr",
          "output_type": "stream",
          "text": [
            "100%|██████████| 114/114 [00:01<00:00, 102.54it/s]\n"
          ]
        },
        {
          "name": "stdout",
          "output_type": "stream",
          "text": [
            "\n",
            "Epoch [5/15] Training Loss: 0.1465 Training Accuracy: 0.9620\n",
            "Test Loss: 0.2226 Test Accuracy: 0.8970\n"
          ]
        },
        {
          "name": "stderr",
          "output_type": "stream",
          "text": [
            "100%|██████████| 114/114 [00:01<00:00, 101.97it/s]\n"
          ]
        },
        {
          "name": "stdout",
          "output_type": "stream",
          "text": [
            "\n",
            "Epoch [6/15] Training Loss: 0.1133 Training Accuracy: 0.9696\n",
            "Test Loss: 0.2027 Test Accuracy: 0.9157\n"
          ]
        },
        {
          "name": "stderr",
          "output_type": "stream",
          "text": [
            "100%|██████████| 114/114 [00:01<00:00, 101.55it/s]\n"
          ]
        },
        {
          "name": "stdout",
          "output_type": "stream",
          "text": [
            "\n",
            "Epoch [7/15] Training Loss: 0.1111 Training Accuracy: 0.9696\n",
            "Test Loss: 0.2229 Test Accuracy: 0.9036\n"
          ]
        },
        {
          "name": "stderr",
          "output_type": "stream",
          "text": [
            "100%|██████████| 114/114 [00:01<00:00, 102.07it/s]\n"
          ]
        },
        {
          "name": "stdout",
          "output_type": "stream",
          "text": [
            "\n",
            "Epoch [8/15] Training Loss: 0.0958 Training Accuracy: 0.9783\n",
            "Test Loss: 0.2089 Test Accuracy: 0.9180\n"
          ]
        },
        {
          "name": "stderr",
          "output_type": "stream",
          "text": [
            "100%|██████████| 114/114 [00:01<00:00, 76.19it/s]\n"
          ]
        },
        {
          "name": "stdout",
          "output_type": "stream",
          "text": [
            "\n",
            "Epoch [9/15] Training Loss: 0.0895 Training Accuracy: 0.9805\n",
            "Test Loss: 0.2124 Test Accuracy: 0.9191\n"
          ]
        },
        {
          "name": "stderr",
          "output_type": "stream",
          "text": [
            "100%|██████████| 114/114 [00:01<00:00, 102.18it/s]\n"
          ]
        },
        {
          "name": "stdout",
          "output_type": "stream",
          "text": [
            "\n",
            "Epoch [10/15] Training Loss: 0.0637 Training Accuracy: 0.9849\n",
            "Test Loss: 0.2190 Test Accuracy: 0.9141\n"
          ]
        },
        {
          "name": "stderr",
          "output_type": "stream",
          "text": [
            "100%|██████████| 114/114 [00:01<00:00, 103.00it/s]\n"
          ]
        },
        {
          "name": "stdout",
          "output_type": "stream",
          "text": [
            "\n",
            "Epoch [11/15] Training Loss: 0.0666 Training Accuracy: 0.9862\n",
            "Test Loss: 0.2162 Test Accuracy: 0.9124\n"
          ]
        },
        {
          "name": "stderr",
          "output_type": "stream",
          "text": [
            "100%|██████████| 114/114 [00:01<00:00, 101.90it/s]\n"
          ]
        },
        {
          "name": "stdout",
          "output_type": "stream",
          "text": [
            "\n",
            "Epoch [12/15] Training Loss: 0.0697 Training Accuracy: 0.9836\n",
            "Test Loss: 0.2339 Test Accuracy: 0.9036\n"
          ]
        },
        {
          "name": "stderr",
          "output_type": "stream",
          "text": [
            "100%|██████████| 114/114 [00:01<00:00, 102.39it/s]\n"
          ]
        },
        {
          "name": "stdout",
          "output_type": "stream",
          "text": [
            "\n",
            "Epoch [13/15] Training Loss: 0.0521 Training Accuracy: 0.9900\n",
            "Test Loss: 0.2185 Test Accuracy: 0.9202\n"
          ]
        },
        {
          "name": "stderr",
          "output_type": "stream",
          "text": [
            "100%|██████████| 114/114 [00:01<00:00, 93.59it/s]\n"
          ]
        },
        {
          "name": "stdout",
          "output_type": "stream",
          "text": [
            "\n",
            "Epoch [14/15] Training Loss: 0.0459 Training Accuracy: 0.9902\n",
            "Test Loss: 0.2337 Test Accuracy: 0.9157\n"
          ]
        },
        {
          "name": "stderr",
          "output_type": "stream",
          "text": [
            "100%|██████████| 114/114 [00:01<00:00, 82.36it/s]\n"
          ]
        },
        {
          "name": "stdout",
          "output_type": "stream",
          "text": [
            "\n",
            "Epoch [15/15] Training Loss: 0.0453 Training Accuracy: 0.9900\n",
            "Test Loss: 0.2374 Test Accuracy: 0.9124\n"
          ]
        }
      ],
      "source": [
        "device = torch.device(\"cuda\" if torch.cuda.is_available() else \"cpu\")\n",
        "\n",
        "model2 = CNN2(length = SEQUENCE_LEN, k_size = 3, inp_channels = EMBEDDING_VECTOR_DIM).to(device)\n",
        "\n",
        "optimizer2 = optim.Adam(model2.parameters(), lr=LEARNING_RATE)\n",
        "\n",
        "train_losses2 = []\n",
        "train_accs2 = []\n",
        "test_losses2 = []\n",
        "test_accs2 = []\n",
        "\n",
        "for epoch in range(EPOCHS):\n",
        "    for idx, (inputs, labels) in enumerate(tqdm(train_loader)):\n",
        "        # moving model's inputs and outputs to cuda\n",
        "        inputs = inputs.to(device=device)\n",
        "        labels = labels.to(device=device)\n",
        "\n",
        "        # using model's forward pass to generate outputs\n",
        "        pred = model2(inputs)\n",
        "        loss = loss_function(pred, labels)\n",
        "\n",
        "        # 1. clearing optimizer's state and zero prev grads\n",
        "        optimizer2.zero_grad()\n",
        "\n",
        "        # 2. backwarding calculated loss\n",
        "        loss.backward()\n",
        "\n",
        "        # 3. steping optimizer\n",
        "        optimizer2.step()\n",
        "\n",
        "        inputs = inputs.to(\"cpu\")\n",
        "        labels = labels.to(\"cpu\")\n",
        "\n",
        "\n",
        "    train_loss, train_acc = model_eval(\n",
        "        model=model2,\n",
        "        loader=train_loader,\n",
        "        loss_function=loss_function,\n",
        "        )\n",
        "    train_losses2.append(train_loss)\n",
        "    train_accs2.append(train_acc)\n",
        "\n",
        "    test_loss, test_acc = model_eval(\n",
        "        model=model2,\n",
        "        loader=test_loader,\n",
        "        loss_function=loss_function,\n",
        "        )\n",
        "    test_losses2.append(test_loss)\n",
        "    test_accs2.append(test_acc)\n",
        "\n",
        "    # Printing epoch statistics\n",
        "    print(f\"\\nEpoch [{epoch + 1}/{EPOCHS}] Training Loss: {train_loss:.4f} Training Accuracy: {train_acc:.4f}\")\n",
        "    print(f\"Test Loss: {test_loss:.4f} Test Accuracy: {test_acc:.4f}\")\n",
        "\n",
        "history2 = {\n",
        "    \"train_loss\": train_losses2,\n",
        "    \"train_acc\": train_accs2,\n",
        "\n",
        "    \"test_loss\": test_losses2,\n",
        "    \"test_acc\": test_accs2,\n",
        "}"
      ]
    },
    {
      "cell_type": "code",
      "execution_count": 74,
      "id": "a27A6qTowho_",
      "metadata": {
        "colab": {
          "base_uri": "https://localhost:8080/",
          "height": 465
        },
        "id": "a27A6qTowho_",
        "outputId": "a8933ecc-a7a8-4549-997b-d69e85b24e1d"
      },
      "outputs": [
        {
          "data": {
            "image/png": "[encoded data removed]",
            "text/plain": [
              "<Figure size 1000x500 with 2 Axes>"
            ]
          },
          "metadata": {},
          "output_type": "display_data"
        }
      ],
      "source": [
        "trend_plot_helper(\n",
        "    {\n",
        "        \"Accuracy - Epoch\": [\n",
        "            (\"Train Acc\", history2[\"train_acc\"]),\n",
        "            (\"Test Acc\", history2[\"test_acc\"]),\n",
        "        ],\n",
        "        \"Loss - Epoch\": [\n",
        "            (\"Train Loss\", history2[\"train_loss\"]),\n",
        "            (\"Test Loss\", history2[\"test_loss\"])\n",
        "        ]\n",
        "    }\n",
        ")"
      ]
    },
    {
      "cell_type": "code",
      "execution_count": 75,
      "id": "db6xdfndwnFN",
      "metadata": {
        "colab": {
          "base_uri": "https://localhost:8080/",
          "height": 517
        },
        "id": "db6xdfndwnFN",
        "outputId": "9e034849-43d8-4b10-bb6e-9c9e4bd58739"
      },
      "outputs": [
        {
          "data": {
            "image/png": "[encoded data removed]",
            "text/plain": [
              "<Figure size 500x500 with 1 Axes>"
            ]
          },
          "metadata": {},
          "output_type": "display_data"
        }
      ],
      "source": [
        "model_report2 = generate_confusion_matrix(model=model2, loader=test_loader)"
      ]
    },
    {
      "cell_type": "code",
      "execution_count": 76,
      "id": "-dx0kPy6wuDY",
      "metadata": {
        "colab": {
          "base_uri": "https://localhost:8080/"
        },
        "id": "-dx0kPy6wuDY",
        "outputId": "a6f8c580-3a8e-4e0a-8ebf-7e573c5bfb7a"
      },
      "outputs": [
        {
          "name": "stdout",
          "output_type": "stream",
          "text": [
            "Recall:    0.912\n",
            "F1:        0.911\n",
            "Precision: 0.911\n",
            "              precision    recall  f1-score   support\n",
            "\n",
            "           0       0.93      0.91      0.92      1011\n",
            "           1       0.89      0.91      0.90       805\n",
            "\n",
            "    accuracy                           0.91      1816\n",
            "   macro avg       0.91      0.91      0.91      1816\n",
            "weighted avg       0.91      0.91      0.91      1816\n",
            "\n"
          ]
        }
      ],
      "source": [
        "print(f\"Recall:    {model_report2['recall']:.3f}\")\n",
        "print(f\"F1:        {model_report2['f1']:.3f}\")\n",
        "print(f\"Precision: {model_report2['precision']:.3f}\")\n",
        "print(model_report2['report'])"
      ]
    }
  ],
  "metadata": {
    "accelerator": "GPU",
    "colab": {
      "gpuType": "T4",
      "provenance": []
    },
    "kernelspec": {
      "display_name": "Python 3",
      "name": "python3"
    },
    "language_info": {
      "codemirror_mode": {
        "name": "ipython",
        "version": 2
      },
      "file_extension": ".py",
      "mimetype": "text/x-python",
      "name": "python",
      "nbconvert_exporter": "python",
      "pygments_lexer": "ipython2",
      "version": "2.7.6"
    }
  },
  "nbformat": 4,
  "nbformat_minor": 5
}
